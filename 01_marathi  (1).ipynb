{
 "cells": [
  {
   "cell_type": "markdown",
   "id": "1ca83133",
   "metadata": {},
   "source": [
    "# import necessary library for NLP project\n"
   ]
  },
  {
   "cell_type": "code",
   "execution_count": 53,
   "id": "96e65862",
   "metadata": {},
   "outputs": [
    {
     "name": "stdout",
     "output_type": "stream",
     "text": [
      "Requirement already satisfied: pandas in c:\\users\\asus\\onedrive\\desktop\\my-project\\.venv\\lib\\site-packages (2.2.3)\n",
      "Requirement already satisfied: numpy>=1.22.4 in c:\\users\\asus\\onedrive\\desktop\\my-project\\.venv\\lib\\site-packages (from pandas) (2.0.2)\n",
      "Requirement already satisfied: pytz>=2020.1 in c:\\users\\asus\\onedrive\\desktop\\my-project\\.venv\\lib\\site-packages (from pandas) (2024.2)\n",
      "Requirement already satisfied: python-dateutil>=2.8.2 in c:\\users\\asus\\onedrive\\desktop\\my-project\\.venv\\lib\\site-packages (from pandas) (2.9.0.post0)\n",
      "Requirement already satisfied: tzdata>=2022.7 in c:\\users\\asus\\onedrive\\desktop\\my-project\\.venv\\lib\\site-packages (from pandas) (2024.2)\n",
      "Requirement already satisfied: six>=1.5 in c:\\users\\asus\\onedrive\\desktop\\my-project\\.venv\\lib\\site-packages (from python-dateutil>=2.8.2->pandas) (1.16.0)\n"
     ]
    },
    {
     "name": "stderr",
     "output_type": "stream",
     "text": [
      "WARNING: You are using pip version 21.2.4; however, version 24.3.1 is available.\n",
      "You should consider upgrading via the 'C:\\Users\\Asus\\OneDrive\\Desktop\\My-Project\\.venv\\Scripts\\python.exe -m pip install --upgrade pip' command.\n"
     ]
    }
   ],
   "source": [
    "! pip install pandas\n",
    "import pandas as pd\n",
    "import re"
   ]
  },
  {
   "cell_type": "code",
   "execution_count": null,
   "id": "c56e0266",
   "metadata": {},
   "outputs": [],
   "source": [
    "\n"
   ]
  },
  {
   "cell_type": "code",
   "execution_count": null,
   "id": "dd857585",
   "metadata": {},
   "outputs": [],
   "source": [
    "\n",
    "\n"
   ]
  },
  {
   "cell_type": "code",
   "execution_count": 54,
   "id": "2707571f",
   "metadata": {},
   "outputs": [
    {
     "name": "stdout",
     "output_type": "stream",
     "text": [
      "                          Titel  \\\n",
      "0                  ससा आणि सिंह   \n",
      "1      मूर्खाला उपदेश केला तर..   \n",
      "2                 ससा आणि चिमणा   \n",
      "3    दोघांच भांडण तिसऱ्याचा लाभ   \n",
      "4                  अजब ज्योतिषी   \n",
      "..                          ...   \n",
      "359                         NaN   \n",
      "360                         NaN   \n",
      "361                         NaN   \n",
      "362                         NaN   \n",
      "363                         NaN   \n",
      "\n",
      "                                               Content               Category  \\\n",
      "0    खूप वर्षापूर्वीची गोष्ट आहे ही एका जंगलात एक क...                    NaN   \n",
      "1    एकदा हिमालयाच्या भागात एक वानर पावसात सचैल भिज...                    NaN   \n",
      "2    एका जंगलातील झाडावर एक चिमणा रहात होता. त्याला...                    NaN   \n",
      "3    एका जंगलात एका वडाच्या झाडावर बरीच माकडे राहात...                    NaN   \n",
      "4    एक ज्योतिषी बाजारात बसून लोकांचे भविष्य सांगत ...                    NaN   \n",
      "..                                                 ...                    ...   \n",
      "359                                                NaN  लहान मुलांच्या गोष्टी   \n",
      "360                                                NaN  लहान मुलांच्या गोष्टी   \n",
      "361                                                NaN  लहान मुलांच्या गोष्टी   \n",
      "362                                                NaN  लहान मुलांच्या गोष्टी   \n",
      "363                                                NaN  लहान मुलांच्या गोष्टी   \n",
      "\n",
      "                        title_m  \\\n",
      "0                           NaN   \n",
      "1                           NaN   \n",
      "2                           NaN   \n",
      "3                           NaN   \n",
      "4                           NaN   \n",
      "..                          ...   \n",
      "359  बासरीवाला मुलगा आणि गावकरी   \n",
      "360         आति तिथे माती गोष्ट   \n",
      "361                  कष्टाचे फळ   \n",
      "362          अहंकारी राजाला धडा   \n",
      "363             पक्षी आणि पारधी   \n",
      "\n",
      "                                                 Story  \n",
      "0                                                  NaN  \n",
      "1                                                  NaN  \n",
      "2                                                  NaN  \n",
      "3                                                  NaN  \n",
      "4                                                  NaN  \n",
      "..                                                 ...  \n",
      "359  फार फार वर्षापूर्वीची गोष्ट. एका गावात उंदरांच...  \n",
      "360  एक गावात एक भिकारी राहत होता. तो रोज भीक मागून...  \n",
      "361  एक गावात एक म्हातारा शेतकरी राहत होता.त्याला प...  \n",
      "362  एक अहंकारी राजा होता. त् याला आपल् या   ऐश् वर...  \n",
      "363  एक पारधी अरण्यात पक्षी धरण्यासाठी जाळे लावत   ...  \n",
      "\n",
      "[364 rows x 5 columns]\n"
     ]
    }
   ],
   "source": [
    "d = pd.read_csv(r\"C:\\Users\\Asus\\Downloads\\marathiNEW_file.csv\")\n",
    "print(d)"
   ]
  },
  {
   "cell_type": "code",
   "execution_count": 55,
   "id": "439a57e3",
   "metadata": {},
   "outputs": [],
   "source": [
    "# RENAME THE COLUMNS \n",
    "#d= pd.read_csv(r\"C:\\Users\\Asus\\OneDrive\\Desktop\\2MARATHI.csv\")\n",
    "\n",
    "# Step 2: Rename columns\n",
    "#d= .rename(columns={\"Column1\": \"title\"})\n",
    "\n",
    "# Step 3: Display the updated DataFrame\n",
    "#print(\"After renaming columns:\")\n",
    "#print(data.head())"
   ]
  },
  {
   "cell_type": "code",
   "execution_count": null,
   "id": "e028715f",
   "metadata": {},
   "outputs": [],
   "source": []
  },
  {
   "cell_type": "code",
   "execution_count": 56,
   "id": "b51140d4",
   "metadata": {},
   "outputs": [
    {
     "name": "stdout",
     "output_type": "stream",
     "text": [
      "<class 'pandas.core.frame.DataFrame'>\n",
      "RangeIndex: 364 entries, 0 to 363\n",
      "Data columns (total 5 columns):\n",
      " #   Column    Non-Null Count  Dtype \n",
      "---  ------    --------------  ----- \n",
      " 0   Titel     150 non-null    object\n",
      " 1   Content   150 non-null    object\n",
      " 2   Category  214 non-null    object\n",
      " 3   title_m   214 non-null    object\n",
      " 4   Story     214 non-null    object\n",
      "dtypes: object(5)\n",
      "memory usage: 14.3+ KB\n"
     ]
    }
   ],
   "source": [
    "d.info()"
   ]
  },
  {
   "cell_type": "code",
   "execution_count": 57,
   "id": "ddfa2f08",
   "metadata": {},
   "outputs": [],
   "source": [
    "#! pip install openpyxl\n"
   ]
  },
  {
   "cell_type": "code",
   "execution_count": 58,
   "id": "78752e3c",
   "metadata": {},
   "outputs": [],
   "source": [
    "# convert csv to excel file \n",
    "#csv_file = r\"C:\\Users\\Asus\\OneDrive\\Desktop\\py_basic_program\\translated_title_story_to_marathi.csv\"\n",
    "# Read the CSV into a DataFrame\n",
    "#data = pd.read_csv(csv_file)\n",
    "\n",
    "# Save the DataFrame to an Excel file\n",
    "#excel_file = r\"C:\\Users\\Asus\\Downloads\\engTOmar(excel).xlsx\"\n",
    "#data.to_excel(excel_file, index=False)\n",
    "\n",
    "\n",
    "\n",
    "#print(\"Successfully converted the CSV file to Excel. The new Excel file is saved at:\", excel_file)\n",
    "\n"
   ]
  },
  {
   "cell_type": "code",
   "execution_count": 59,
   "id": "25aea493",
   "metadata": {},
   "outputs": [],
   "source": [
    "#CONVERT Excel to csv file \n",
    "#import pandas as pd\n",
    "#Step 1: Specify the Excel file path\n",
    "#excel_file = r\"C:\\Users\\Asus\\OneDrive\\Desktop\\M.data\\900 story.xlsx\"\n",
    "\n",
    "# Step 2: Read the Excel file into a DataFrame\n",
    "#data = pd.read_excel(excel_file)\n",
    "\n",
    "# Step 3: Save the DataFrame to a CSV file\n",
    "#csv_file = r\"C:\\Users\\Asus\\OneDrive\\Desktop\\M.data\\900 story (CSV)\"\n",
    "#data.to_csv(csv_file, index=False)\n",
    "\n",
    "# Step 4: Display a success message\n",
    "#print(\"Successfully converted the Excel file to CSV. The new CSV file is saved at:\", csv_file)\n"
   ]
  },
  {
   "cell_type": "code",
   "execution_count": null,
   "id": "16e7d918",
   "metadata": {},
   "outputs": [],
   "source": []
  },
  {
   "cell_type": "code",
   "execution_count": 60,
   "id": "85986671",
   "metadata": {},
   "outputs": [
    {
     "data": {
      "text/html": [
       "<div>\n",
       "<style scoped>\n",
       "    .dataframe tbody tr th:only-of-type {\n",
       "        vertical-align: middle;\n",
       "    }\n",
       "\n",
       "    .dataframe tbody tr th {\n",
       "        vertical-align: top;\n",
       "    }\n",
       "\n",
       "    .dataframe thead th {\n",
       "        text-align: right;\n",
       "    }\n",
       "</style>\n",
       "<table border=\"1\" class=\"dataframe\">\n",
       "  <thead>\n",
       "    <tr style=\"text-align: right;\">\n",
       "      <th></th>\n",
       "      <th>Column1</th>\n",
       "      <th>Story</th>\n",
       "    </tr>\n",
       "  </thead>\n",
       "  <tbody>\n",
       "    <tr>\n",
       "      <th>856</th>\n",
       "      <td>कष्टाळू हरीण</td>\n",
       "      <td>एका गावात एक राजा राहत होता. त्या राजाला हरणां...</td>\n",
       "    </tr>\n",
       "    <tr>\n",
       "      <th>857</th>\n",
       "      <td>गोंधळाचे राज्य</td>\n",
       "      <td>फार वर्षापूर्वीची गोष्ट आहे. एकदा एका देशात खू...</td>\n",
       "    </tr>\n",
       "    <tr>\n",
       "      <th>858</th>\n",
       "      <td>चांगला माणूस आणि दृष्ट माणूस</td>\n",
       "      <td>एका गावामध्ये एक मंदिर होते. एक चांगला माणूस अ...</td>\n",
       "    </tr>\n",
       "    <tr>\n",
       "      <th>859</th>\n",
       "      <td>पती,पत्नी आणि गाढव</td>\n",
       "      <td>एका गावामध्ये पती आणि पत्नी आपल्या गाढवाला गाव...</td>\n",
       "    </tr>\n",
       "    <tr>\n",
       "      <th>860</th>\n",
       "      <td>हुशार मुलगा आणि चोर</td>\n",
       "      <td>एका गावामध्ये पती आणि पत्नी आपल्या गाढवाला गाव...</td>\n",
       "    </tr>\n",
       "  </tbody>\n",
       "</table>\n",
       "</div>"
      ],
      "text/plain": [
       "                          Column1  \\\n",
       "856                  कष्टाळू हरीण   \n",
       "857                गोंधळाचे राज्य   \n",
       "858  चांगला माणूस आणि दृष्ट माणूस   \n",
       "859            पती,पत्नी आणि गाढव   \n",
       "860           हुशार मुलगा आणि चोर   \n",
       "\n",
       "                                                 Story  \n",
       "856  एका गावात एक राजा राहत होता. त्या राजाला हरणां...  \n",
       "857  फार वर्षापूर्वीची गोष्ट आहे. एकदा एका देशात खू...  \n",
       "858  एका गावामध्ये एक मंदिर होते. एक चांगला माणूस अ...  \n",
       "859  एका गावामध्ये पती आणि पत्नी आपल्या गाढवाला गाव...  \n",
       "860  एका गावामध्ये पती आणि पत्नी आपल्या गाढवाला गाव...  "
      ]
     },
     "execution_count": 60,
     "metadata": {},
     "output_type": "execute_result"
    }
   ],
   "source": [
    "d = pd.read_csv(r\"C:\\Users\\Asus\\OneDrive\\Desktop\\2MARATHI.csv\")\n",
    "d.head()\n",
    "d.tail()"
   ]
  },
  {
   "cell_type": "code",
   "execution_count": 61,
   "id": "0ade6f2e",
   "metadata": {},
   "outputs": [
    {
     "name": "stdout",
     "output_type": "stream",
     "text": [
      "<class 'pandas.core.frame.DataFrame'>\n",
      "RangeIndex: 861 entries, 0 to 860\n",
      "Data columns (total 2 columns):\n",
      " #   Column   Non-Null Count  Dtype \n",
      "---  ------   --------------  ----- \n",
      " 0   Column1  861 non-null    object\n",
      " 1   Story    857 non-null    object\n",
      "dtypes: object(2)\n",
      "memory usage: 13.6+ KB\n"
     ]
    }
   ],
   "source": [
    "d.info()"
   ]
  },
  {
   "cell_type": "code",
   "execution_count": 62,
   "id": "10edfec5",
   "metadata": {},
   "outputs": [
    {
     "data": {
      "text/html": [
       "<div>\n",
       "<style scoped>\n",
       "    .dataframe tbody tr th:only-of-type {\n",
       "        vertical-align: middle;\n",
       "    }\n",
       "\n",
       "    .dataframe tbody tr th {\n",
       "        vertical-align: top;\n",
       "    }\n",
       "\n",
       "    .dataframe thead th {\n",
       "        text-align: right;\n",
       "    }\n",
       "</style>\n",
       "<table border=\"1\" class=\"dataframe\">\n",
       "  <thead>\n",
       "    <tr style=\"text-align: right;\">\n",
       "      <th></th>\n",
       "      <th>Column1</th>\n",
       "      <th>Story</th>\n",
       "    </tr>\n",
       "  </thead>\n",
       "  <tbody>\n",
       "    <tr>\n",
       "      <th>0</th>\n",
       "      <td>ससा आणि सिंह</td>\n",
       "      <td>खूप वर्षापूर्वीची गोष्ट आहे ही एका जंगलात एक क...</td>\n",
       "    </tr>\n",
       "    <tr>\n",
       "      <th>1</th>\n",
       "      <td>मूर्खाला उपदेश केला तर..</td>\n",
       "      <td>एकदा हिमालयाच्या भागात एक वानर पावसात सचैल भिज...</td>\n",
       "    </tr>\n",
       "    <tr>\n",
       "      <th>2</th>\n",
       "      <td>ससा आणि चिमणा</td>\n",
       "      <td>एका जंगलातील झाडावर एक चिमणा रहात होता. त्याला...</td>\n",
       "    </tr>\n",
       "    <tr>\n",
       "      <th>3</th>\n",
       "      <td>दोघांच भांडण तिसऱ्याचा लाभ</td>\n",
       "      <td>एका जंगलात एका वडाच्या झाडावर बरीच माकडे राहात...</td>\n",
       "    </tr>\n",
       "    <tr>\n",
       "      <th>4</th>\n",
       "      <td>अजब ज्योतिषी</td>\n",
       "      <td>एक ज्योतिषी बाजारात बसून लोकांचे भविष्य सांगत ...</td>\n",
       "    </tr>\n",
       "  </tbody>\n",
       "</table>\n",
       "</div>"
      ],
      "text/plain": [
       "                      Column1  \\\n",
       "0                ससा आणि सिंह   \n",
       "1    मूर्खाला उपदेश केला तर..   \n",
       "2               ससा आणि चिमणा   \n",
       "3  दोघांच भांडण तिसऱ्याचा लाभ   \n",
       "4                अजब ज्योतिषी   \n",
       "\n",
       "                                               Story  \n",
       "0  खूप वर्षापूर्वीची गोष्ट आहे ही एका जंगलात एक क...  \n",
       "1  एकदा हिमालयाच्या भागात एक वानर पावसात सचैल भिज...  \n",
       "2  एका जंगलातील झाडावर एक चिमणा रहात होता. त्याला...  \n",
       "3  एका जंगलात एका वडाच्या झाडावर बरीच माकडे राहात...  \n",
       "4  एक ज्योतिषी बाजारात बसून लोकांचे भविष्य सांगत ...  "
      ]
     },
     "execution_count": 62,
     "metadata": {},
     "output_type": "execute_result"
    }
   ],
   "source": [
    "d.head(5)"
   ]
  },
  {
   "cell_type": "code",
   "execution_count": 63,
   "id": "187637c9",
   "metadata": {},
   "outputs": [
    {
     "data": {
      "text/html": [
       "<div>\n",
       "<style scoped>\n",
       "    .dataframe tbody tr th:only-of-type {\n",
       "        vertical-align: middle;\n",
       "    }\n",
       "\n",
       "    .dataframe tbody tr th {\n",
       "        vertical-align: top;\n",
       "    }\n",
       "\n",
       "    .dataframe thead th {\n",
       "        text-align: right;\n",
       "    }\n",
       "</style>\n",
       "<table border=\"1\" class=\"dataframe\">\n",
       "  <thead>\n",
       "    <tr style=\"text-align: right;\">\n",
       "      <th></th>\n",
       "      <th>Column1</th>\n",
       "      <th>Story</th>\n",
       "    </tr>\n",
       "  </thead>\n",
       "  <tbody>\n",
       "    <tr>\n",
       "      <th>855</th>\n",
       "      <td>खरा न्याय</td>\n",
       "      <td>एका गावात राम आणि शाम नावाचे दोन व्यापारी राहत...</td>\n",
       "    </tr>\n",
       "    <tr>\n",
       "      <th>856</th>\n",
       "      <td>कष्टाळू हरीण</td>\n",
       "      <td>एका गावात एक राजा राहत होता. त्या राजाला हरणां...</td>\n",
       "    </tr>\n",
       "    <tr>\n",
       "      <th>857</th>\n",
       "      <td>गोंधळाचे राज्य</td>\n",
       "      <td>फार वर्षापूर्वीची गोष्ट आहे. एकदा एका देशात खू...</td>\n",
       "    </tr>\n",
       "    <tr>\n",
       "      <th>858</th>\n",
       "      <td>चांगला माणूस आणि दृष्ट माणूस</td>\n",
       "      <td>एका गावामध्ये एक मंदिर होते. एक चांगला माणूस अ...</td>\n",
       "    </tr>\n",
       "    <tr>\n",
       "      <th>859</th>\n",
       "      <td>पती,पत्नी आणि गाढव</td>\n",
       "      <td>एका गावामध्ये पती आणि पत्नी आपल्या गाढवाला गाव...</td>\n",
       "    </tr>\n",
       "    <tr>\n",
       "      <th>860</th>\n",
       "      <td>हुशार मुलगा आणि चोर</td>\n",
       "      <td>एका गावामध्ये पती आणि पत्नी आपल्या गाढवाला गाव...</td>\n",
       "    </tr>\n",
       "  </tbody>\n",
       "</table>\n",
       "</div>"
      ],
      "text/plain": [
       "                          Column1  \\\n",
       "855                     खरा न्याय   \n",
       "856                  कष्टाळू हरीण   \n",
       "857                गोंधळाचे राज्य   \n",
       "858  चांगला माणूस आणि दृष्ट माणूस   \n",
       "859            पती,पत्नी आणि गाढव   \n",
       "860           हुशार मुलगा आणि चोर   \n",
       "\n",
       "                                                 Story  \n",
       "855  एका गावात राम आणि शाम नावाचे दोन व्यापारी राहत...  \n",
       "856  एका गावात एक राजा राहत होता. त्या राजाला हरणां...  \n",
       "857  फार वर्षापूर्वीची गोष्ट आहे. एकदा एका देशात खू...  \n",
       "858  एका गावामध्ये एक मंदिर होते. एक चांगला माणूस अ...  \n",
       "859  एका गावामध्ये पती आणि पत्नी आपल्या गाढवाला गाव...  \n",
       "860  एका गावामध्ये पती आणि पत्नी आपल्या गाढवाला गाव...  "
      ]
     },
     "execution_count": 63,
     "metadata": {},
     "output_type": "execute_result"
    }
   ],
   "source": [
    "d.tail(6)"
   ]
  },
  {
   "cell_type": "markdown",
   "id": "9681cedc",
   "metadata": {},
   "source": [
    "# Remove null value"
   ]
  },
  {
   "cell_type": "code",
   "execution_count": 64,
   "id": "f6f2c550",
   "metadata": {},
   "outputs": [
    {
     "data": {
      "text/plain": [
       "Column1    0\n",
       "Story      4\n",
       "dtype: int64"
      ]
     },
     "execution_count": 64,
     "metadata": {},
     "output_type": "execute_result"
    }
   ],
   "source": [
    "d.isnull().sum()"
   ]
  },
  {
   "cell_type": "code",
   "execution_count": 65,
   "id": "5a6d39b2",
   "metadata": {},
   "outputs": [],
   "source": [
    "df=d.dropna()"
   ]
  },
  {
   "cell_type": "code",
   "execution_count": 66,
   "id": "8d6c13c9",
   "metadata": {},
   "outputs": [
    {
     "data": {
      "text/plain": [
       "Column1    0\n",
       "Story      0\n",
       "dtype: int64"
      ]
     },
     "execution_count": 66,
     "metadata": {},
     "output_type": "execute_result"
    }
   ],
   "source": [
    "df.isnull().sum()"
   ]
  },
  {
   "cell_type": "code",
   "execution_count": 67,
   "id": "1a7a3e36",
   "metadata": {},
   "outputs": [
    {
     "name": "stdout",
     "output_type": "stream",
     "text": [
      "There is No Duplicated value in your dataset\n"
     ]
    }
   ],
   "source": [
    "df1= df.duplicated()\n",
    "print(\"There is No Duplicated value in your dataset\")"
   ]
  },
  {
   "cell_type": "code",
   "execution_count": 68,
   "id": "1fdfc91a",
   "metadata": {},
   "outputs": [
    {
     "data": {
      "text/html": [
       "<div>\n",
       "<style scoped>\n",
       "    .dataframe tbody tr th:only-of-type {\n",
       "        vertical-align: middle;\n",
       "    }\n",
       "\n",
       "    .dataframe tbody tr th {\n",
       "        vertical-align: top;\n",
       "    }\n",
       "\n",
       "    .dataframe thead th {\n",
       "        text-align: right;\n",
       "    }\n",
       "</style>\n",
       "<table border=\"1\" class=\"dataframe\">\n",
       "  <thead>\n",
       "    <tr style=\"text-align: right;\">\n",
       "      <th></th>\n",
       "      <th>Column1</th>\n",
       "      <th>Story</th>\n",
       "    </tr>\n",
       "  </thead>\n",
       "  <tbody>\n",
       "    <tr>\n",
       "      <th>0</th>\n",
       "      <td>ससा आणि सिंह</td>\n",
       "      <td>खूप वर्षापूर्वीची गोष्ट आहे ही एका जंगलात एक क...</td>\n",
       "    </tr>\n",
       "    <tr>\n",
       "      <th>1</th>\n",
       "      <td>मूर्खाला उपदेश केला तर..</td>\n",
       "      <td>एकदा हिमालयाच्या भागात एक वानर पावसात सचैल भिज...</td>\n",
       "    </tr>\n",
       "    <tr>\n",
       "      <th>2</th>\n",
       "      <td>ससा आणि चिमणा</td>\n",
       "      <td>एका जंगलातील झाडावर एक चिमणा रहात होता. त्याला...</td>\n",
       "    </tr>\n",
       "    <tr>\n",
       "      <th>3</th>\n",
       "      <td>दोघांच भांडण तिसऱ्याचा लाभ</td>\n",
       "      <td>एका जंगलात एका वडाच्या झाडावर बरीच माकडे राहात...</td>\n",
       "    </tr>\n",
       "    <tr>\n",
       "      <th>4</th>\n",
       "      <td>अजब ज्योतिषी</td>\n",
       "      <td>एक ज्योतिषी बाजारात बसून लोकांचे भविष्य सांगत ...</td>\n",
       "    </tr>\n",
       "  </tbody>\n",
       "</table>\n",
       "</div>"
      ],
      "text/plain": [
       "                      Column1  \\\n",
       "0                ससा आणि सिंह   \n",
       "1    मूर्खाला उपदेश केला तर..   \n",
       "2               ससा आणि चिमणा   \n",
       "3  दोघांच भांडण तिसऱ्याचा लाभ   \n",
       "4                अजब ज्योतिषी   \n",
       "\n",
       "                                               Story  \n",
       "0  खूप वर्षापूर्वीची गोष्ट आहे ही एका जंगलात एक क...  \n",
       "1  एकदा हिमालयाच्या भागात एक वानर पावसात सचैल भिज...  \n",
       "2  एका जंगलातील झाडावर एक चिमणा रहात होता. त्याला...  \n",
       "3  एका जंगलात एका वडाच्या झाडावर बरीच माकडे राहात...  \n",
       "4  एक ज्योतिषी बाजारात बसून लोकांचे भविष्य सांगत ...  "
      ]
     },
     "execution_count": 68,
     "metadata": {},
     "output_type": "execute_result"
    }
   ],
   "source": [
    "df.head()"
   ]
  },
  {
   "cell_type": "code",
   "execution_count": 69,
   "id": "d12fadf4",
   "metadata": {},
   "outputs": [
    {
     "name": "stdout",
     "output_type": "stream",
     "text": [
      "Columns before renaming: Index(['Column1', 'Story'], dtype='object')\n"
     ]
    }
   ],
   "source": [
    "print(\"Columns before renaming:\", df.columns)"
   ]
  },
  {
   "cell_type": "code",
   "execution_count": 70,
   "id": "64eee95e",
   "metadata": {},
   "outputs": [
    {
     "data": {
      "text/html": [
       "<div>\n",
       "<style scoped>\n",
       "    .dataframe tbody tr th:only-of-type {\n",
       "        vertical-align: middle;\n",
       "    }\n",
       "\n",
       "    .dataframe tbody tr th {\n",
       "        vertical-align: top;\n",
       "    }\n",
       "\n",
       "    .dataframe thead th {\n",
       "        text-align: right;\n",
       "    }\n",
       "</style>\n",
       "<table border=\"1\" class=\"dataframe\">\n",
       "  <thead>\n",
       "    <tr style=\"text-align: right;\">\n",
       "      <th></th>\n",
       "      <th>Column1</th>\n",
       "      <th>Story</th>\n",
       "    </tr>\n",
       "  </thead>\n",
       "  <tbody>\n",
       "    <tr>\n",
       "      <th>856</th>\n",
       "      <td>कष्टाळू हरीण</td>\n",
       "      <td>एका गावात एक राजा राहत होता. त्या राजाला हरणां...</td>\n",
       "    </tr>\n",
       "    <tr>\n",
       "      <th>857</th>\n",
       "      <td>गोंधळाचे राज्य</td>\n",
       "      <td>फार वर्षापूर्वीची गोष्ट आहे. एकदा एका देशात खू...</td>\n",
       "    </tr>\n",
       "    <tr>\n",
       "      <th>858</th>\n",
       "      <td>चांगला माणूस आणि दृष्ट माणूस</td>\n",
       "      <td>एका गावामध्ये एक मंदिर होते. एक चांगला माणूस अ...</td>\n",
       "    </tr>\n",
       "    <tr>\n",
       "      <th>859</th>\n",
       "      <td>पती,पत्नी आणि गाढव</td>\n",
       "      <td>एका गावामध्ये पती आणि पत्नी आपल्या गाढवाला गाव...</td>\n",
       "    </tr>\n",
       "    <tr>\n",
       "      <th>860</th>\n",
       "      <td>हुशार मुलगा आणि चोर</td>\n",
       "      <td>एका गावामध्ये पती आणि पत्नी आपल्या गाढवाला गाव...</td>\n",
       "    </tr>\n",
       "  </tbody>\n",
       "</table>\n",
       "</div>"
      ],
      "text/plain": [
       "                          Column1  \\\n",
       "856                  कष्टाळू हरीण   \n",
       "857                गोंधळाचे राज्य   \n",
       "858  चांगला माणूस आणि दृष्ट माणूस   \n",
       "859            पती,पत्नी आणि गाढव   \n",
       "860           हुशार मुलगा आणि चोर   \n",
       "\n",
       "                                                 Story  \n",
       "856  एका गावात एक राजा राहत होता. त्या राजाला हरणां...  \n",
       "857  फार वर्षापूर्वीची गोष्ट आहे. एकदा एका देशात खू...  \n",
       "858  एका गावामध्ये एक मंदिर होते. एक चांगला माणूस अ...  \n",
       "859  एका गावामध्ये पती आणि पत्नी आपल्या गाढवाला गाव...  \n",
       "860  एका गावामध्ये पती आणि पत्नी आपल्या गाढवाला गाव...  "
      ]
     },
     "execution_count": 70,
     "metadata": {},
     "output_type": "execute_result"
    }
   ],
   "source": [
    "df.tail()"
   ]
  },
  {
   "cell_type": "markdown",
   "id": "1070837f",
   "metadata": {},
   "source": [
    "# Remove punctuation and special character from dataset "
   ]
  },
  {
   "cell_type": "code",
   "execution_count": 71,
   "id": "dbeded9e",
   "metadata": {},
   "outputs": [],
   "source": [
    "# Function to clean Marathi text\n",
    "#def clean_text(df):\n",
    "    # Convert to lowercase\n",
    "    #df = df.lower()\n",
    "    # Remove punctuation and special characters (keeping Marathi characters)\n",
    "    #df= re.sub(r'[^अआइईउऊऋऌऍऎएओऔअंअःा -]', '', df)  # Keep only Marathi letters, spaces, and hyphens\n",
    "    #return df"
   ]
  },
  {
   "cell_type": "code",
   "execution_count": 72,
   "id": "6d2e43c4",
   "metadata": {},
   "outputs": [
    {
     "name": "stdout",
     "output_type": "stream",
     "text": [
      "                      Column1             cleaned_Column1  \\\n",
      "0                ससा आणि सिंह                ससा आणि सिंह   \n",
      "1    मूर्खाला उपदेश केला तर..      मूर्खाला उपदेश केला तर   \n",
      "2               ससा आणि चिमणा               ससा आणि चिमणा   \n",
      "3  दोघांच भांडण तिसऱ्याचा लाभ  दोघांच भांडण तिसऱ्याचा लाभ   \n",
      "4                अजब ज्योतिषी                अजब ज्योतिषी   \n",
      "\n",
      "                                               Story  \\\n",
      "0  खूप वर्षापूर्वीची गोष्ट आहे ही एका जंगलात एक क...   \n",
      "1  एकदा हिमालयाच्या भागात एक वानर पावसात सचैल भिज...   \n",
      "2  एका जंगलातील झाडावर एक चिमणा रहात होता. त्याला...   \n",
      "3  एका जंगलात एका वडाच्या झाडावर बरीच माकडे राहात...   \n",
      "4  एक ज्योतिषी बाजारात बसून लोकांचे भविष्य सांगत ...   \n",
      "\n",
      "                                       cleaned_Story  \n",
      "0  खूप वर्षापूर्वीची गोष्ट आहे ही एका जंगलात एक क...  \n",
      "1  एकदा हिमालयाच्या भागात एक वानर पावसात सचैल भिज...  \n",
      "2  एका जंगलातील झाडावर एक चिमणा रहात होता त्याला ...  \n",
      "3  एका जंगलात एका वडाच्या झाडावर बरीच माकडे राहात...  \n",
      "4  एक ज्योतिषी बाजारात बसून लोकांचे भविष्य सांगत ...  \n"
     ]
    }
   ],
   "source": [
    "df = pd.DataFrame(df)\n",
    "# Define a function to remove punctuation and special characters\n",
    "def remove_punctuation(text):\n",
    "    # Regular expression pattern to match punctuation and special characters\n",
    "    pattern = r'[^\\u0900-\\u097F\\s]' # regular expression\n",
    "    # Substitute them with an empty string\n",
    "    cleaned_text = re.sub(pattern, '', text)\n",
    "    return cleaned_text\n",
    "\n",
    "# Apply to both title and story content fields\n",
    "#df['cleaned_Column1'] = df['Column1'].apply(remove_punctuation)\n",
    "#df['cleaned_Story'] = df['Story'].apply(remove_punctuation)\n",
    "df.loc[:, 'cleaned_Column1'] = df['Column1'].apply(remove_punctuation)\n",
    "df.loc[:, 'cleaned_Story'] = df['Story'].apply(remove_punctuation)\n",
    "\n",
    "# Display cleaned data\n",
    "print(df[['Column1', 'cleaned_Column1', 'Story', 'cleaned_Story']].head())\n"
   ]
  },
  {
   "cell_type": "code",
   "execution_count": 73,
   "id": "831d13d8",
   "metadata": {},
   "outputs": [
    {
     "name": "stdout",
     "output_type": "stream",
     "text": [
      "from these dataset punctuation and special characters are removed\n"
     ]
    }
   ],
   "source": [
    "df.head()\n",
    "print(\"from these dataset punctuation and special characters are removed\")"
   ]
  },
  {
   "cell_type": "code",
   "execution_count": 74,
   "id": "9dce42d8",
   "metadata": {},
   "outputs": [
    {
     "data": {
      "text/html": [
       "<div>\n",
       "<style scoped>\n",
       "    .dataframe tbody tr th:only-of-type {\n",
       "        vertical-align: middle;\n",
       "    }\n",
       "\n",
       "    .dataframe tbody tr th {\n",
       "        vertical-align: top;\n",
       "    }\n",
       "\n",
       "    .dataframe thead th {\n",
       "        text-align: right;\n",
       "    }\n",
       "</style>\n",
       "<table border=\"1\" class=\"dataframe\">\n",
       "  <thead>\n",
       "    <tr style=\"text-align: right;\">\n",
       "      <th></th>\n",
       "      <th>cleaned_Column1</th>\n",
       "      <th>cleaned_Story</th>\n",
       "    </tr>\n",
       "  </thead>\n",
       "  <tbody>\n",
       "    <tr>\n",
       "      <th>0</th>\n",
       "      <td>ससा आणि सिंह</td>\n",
       "      <td>खूप वर्षापूर्वीची गोष्ट आहे ही एका जंगलात एक क...</td>\n",
       "    </tr>\n",
       "    <tr>\n",
       "      <th>1</th>\n",
       "      <td>मूर्खाला उपदेश केला तर</td>\n",
       "      <td>एकदा हिमालयाच्या भागात एक वानर पावसात सचैल भिज...</td>\n",
       "    </tr>\n",
       "    <tr>\n",
       "      <th>2</th>\n",
       "      <td>ससा आणि चिमणा</td>\n",
       "      <td>एका जंगलातील झाडावर एक चिमणा रहात होता त्याला ...</td>\n",
       "    </tr>\n",
       "    <tr>\n",
       "      <th>3</th>\n",
       "      <td>दोघांच भांडण तिसऱ्याचा लाभ</td>\n",
       "      <td>एका जंगलात एका वडाच्या झाडावर बरीच माकडे राहात...</td>\n",
       "    </tr>\n",
       "    <tr>\n",
       "      <th>4</th>\n",
       "      <td>अजब ज्योतिषी</td>\n",
       "      <td>एक ज्योतिषी बाजारात बसून लोकांचे भविष्य सांगत ...</td>\n",
       "    </tr>\n",
       "  </tbody>\n",
       "</table>\n",
       "</div>"
      ],
      "text/plain": [
       "              cleaned_Column1  \\\n",
       "0                ससा आणि सिंह   \n",
       "1      मूर्खाला उपदेश केला तर   \n",
       "2               ससा आणि चिमणा   \n",
       "3  दोघांच भांडण तिसऱ्याचा लाभ   \n",
       "4                अजब ज्योतिषी   \n",
       "\n",
       "                                       cleaned_Story  \n",
       "0  खूप वर्षापूर्वीची गोष्ट आहे ही एका जंगलात एक क...  \n",
       "1  एकदा हिमालयाच्या भागात एक वानर पावसात सचैल भिज...  \n",
       "2  एका जंगलातील झाडावर एक चिमणा रहात होता त्याला ...  \n",
       "3  एका जंगलात एका वडाच्या झाडावर बरीच माकडे राहात...  \n",
       "4  एक ज्योतिषी बाजारात बसून लोकांचे भविष्य सांगत ...  "
      ]
     },
     "execution_count": 74,
     "metadata": {},
     "output_type": "execute_result"
    }
   ],
   "source": [
    "df1=df.drop(columns=['Column1', 'Story'])\n",
    "df1.head()"
   ]
  },
  {
   "cell_type": "code",
   "execution_count": 75,
   "id": "a1d72ff8",
   "metadata": {},
   "outputs": [
    {
     "data": {
      "text/html": [
       "<div>\n",
       "<style scoped>\n",
       "    .dataframe tbody tr th:only-of-type {\n",
       "        vertical-align: middle;\n",
       "    }\n",
       "\n",
       "    .dataframe tbody tr th {\n",
       "        vertical-align: top;\n",
       "    }\n",
       "\n",
       "    .dataframe thead th {\n",
       "        text-align: right;\n",
       "    }\n",
       "</style>\n",
       "<table border=\"1\" class=\"dataframe\">\n",
       "  <thead>\n",
       "    <tr style=\"text-align: right;\">\n",
       "      <th></th>\n",
       "      <th>cleaned_Column1</th>\n",
       "      <th>cleaned_Story</th>\n",
       "    </tr>\n",
       "  </thead>\n",
       "  <tbody>\n",
       "    <tr>\n",
       "      <th>856</th>\n",
       "      <td>कष्टाळू हरीण</td>\n",
       "      <td>एका गावात एक राजा राहत होता त्या राजाला हरणांच...</td>\n",
       "    </tr>\n",
       "    <tr>\n",
       "      <th>857</th>\n",
       "      <td>गोंधळाचे राज्य</td>\n",
       "      <td>फार वर्षापूर्वीची गोष्ट आहे एकदा एका देशात खूप...</td>\n",
       "    </tr>\n",
       "    <tr>\n",
       "      <th>858</th>\n",
       "      <td>चांगला माणूस आणि दृष्ट माणूस</td>\n",
       "      <td>एका गावामध्ये एक मंदिर होते एक चांगला माणूस अस...</td>\n",
       "    </tr>\n",
       "    <tr>\n",
       "      <th>859</th>\n",
       "      <td>पतीपत्नी आणि गाढव</td>\n",
       "      <td>एका गावामध्ये पती आणि पत्नी आपल्या गाढवाला गाव...</td>\n",
       "    </tr>\n",
       "    <tr>\n",
       "      <th>860</th>\n",
       "      <td>हुशार मुलगा आणि चोर</td>\n",
       "      <td>एका गावामध्ये पती आणि पत्नी आपल्या गाढवाला गाव...</td>\n",
       "    </tr>\n",
       "  </tbody>\n",
       "</table>\n",
       "</div>"
      ],
      "text/plain": [
       "                  cleaned_Column1  \\\n",
       "856                  कष्टाळू हरीण   \n",
       "857                गोंधळाचे राज्य   \n",
       "858  चांगला माणूस आणि दृष्ट माणूस   \n",
       "859             पतीपत्नी आणि गाढव   \n",
       "860           हुशार मुलगा आणि चोर   \n",
       "\n",
       "                                         cleaned_Story  \n",
       "856  एका गावात एक राजा राहत होता त्या राजाला हरणांच...  \n",
       "857  फार वर्षापूर्वीची गोष्ट आहे एकदा एका देशात खूप...  \n",
       "858  एका गावामध्ये एक मंदिर होते एक चांगला माणूस अस...  \n",
       "859  एका गावामध्ये पती आणि पत्नी आपल्या गाढवाला गाव...  \n",
       "860  एका गावामध्ये पती आणि पत्नी आपल्या गाढवाला गाव...  "
      ]
     },
     "execution_count": 75,
     "metadata": {},
     "output_type": "execute_result"
    }
   ],
   "source": [
    "df1.tail()"
   ]
  },
  {
   "cell_type": "code",
   "execution_count": 76,
   "id": "bb21da7c",
   "metadata": {},
   "outputs": [
    {
     "name": "stdout",
     "output_type": "stream",
     "text": [
      "<class 'pandas.core.frame.DataFrame'>\n",
      "Index: 857 entries, 0 to 860\n",
      "Data columns (total 2 columns):\n",
      " #   Column           Non-Null Count  Dtype \n",
      "---  ------           --------------  ----- \n",
      " 0   cleaned_Column1  857 non-null    object\n",
      " 1   cleaned_Story    857 non-null    object\n",
      "dtypes: object(2)\n",
      "memory usage: 20.1+ KB\n"
     ]
    }
   ],
   "source": [
    "df1.info()"
   ]
  },
  {
   "cell_type": "code",
   "execution_count": 77,
   "id": "f396e533",
   "metadata": {},
   "outputs": [
    {
     "name": "stdout",
     "output_type": "stream",
     "text": [
      "\n",
      "Renamed DataFrame:\n",
      "                      Column1  \\\n",
      "0                ससा आणि सिंह   \n",
      "1    मूर्खाला उपदेश केला तर..   \n",
      "2               ससा आणि चिमणा   \n",
      "3  दोघांच भांडण तिसऱ्याचा लाभ   \n",
      "4                अजब ज्योतिषी   \n",
      "\n",
      "                                               Story  \\\n",
      "0  खूप वर्षापूर्वीची गोष्ट आहे ही एका जंगलात एक क...   \n",
      "1  एकदा हिमालयाच्या भागात एक वानर पावसात सचैल भिज...   \n",
      "2  एका जंगलातील झाडावर एक चिमणा रहात होता. त्याला...   \n",
      "3  एका जंगलात एका वडाच्या झाडावर बरीच माकडे राहात...   \n",
      "4  एक ज्योतिषी बाजारात बसून लोकांचे भविष्य सांगत ...   \n",
      "\n",
      "              cleaned_Column1  \\\n",
      "0                ससा आणि सिंह   \n",
      "1      मूर्खाला उपदेश केला तर   \n",
      "2               ससा आणि चिमणा   \n",
      "3  दोघांच भांडण तिसऱ्याचा लाभ   \n",
      "4                अजब ज्योतिषी   \n",
      "\n",
      "                                       cleaned_Story  \n",
      "0  खूप वर्षापूर्वीची गोष्ट आहे ही एका जंगलात एक क...  \n",
      "1  एकदा हिमालयाच्या भागात एक वानर पावसात सचैल भिज...  \n",
      "2  एका जंगलातील झाडावर एक चिमणा रहात होता त्याला ...  \n",
      "3  एका जंगलात एका वडाच्या झाडावर बरीच माकडे राहात...  \n",
      "4  एक ज्योतिषी बाजारात बसून लोकांचे भविष्य सांगत ...  \n"
     ]
    }
   ],
   "source": [
    "df1.rename(columns={'cleaned_Column1': 'Title', 'cleaned_Story': 'Story'}, inplace=True)  # Adjust as per your dataset\n",
    "print(\"\\nRenamed DataFrame:\")\n",
    "print(df.head(5))"
   ]
  },
  {
   "cell_type": "code",
   "execution_count": 78,
   "id": "18c62d70",
   "metadata": {},
   "outputs": [
    {
     "data": {
      "text/html": [
       "<div>\n",
       "<style scoped>\n",
       "    .dataframe tbody tr th:only-of-type {\n",
       "        vertical-align: middle;\n",
       "    }\n",
       "\n",
       "    .dataframe tbody tr th {\n",
       "        vertical-align: top;\n",
       "    }\n",
       "\n",
       "    .dataframe thead th {\n",
       "        text-align: right;\n",
       "    }\n",
       "</style>\n",
       "<table border=\"1\" class=\"dataframe\">\n",
       "  <thead>\n",
       "    <tr style=\"text-align: right;\">\n",
       "      <th></th>\n",
       "      <th>Title</th>\n",
       "      <th>Story</th>\n",
       "    </tr>\n",
       "  </thead>\n",
       "  <tbody>\n",
       "    <tr>\n",
       "      <th>0</th>\n",
       "      <td>ससा आणि सिंह</td>\n",
       "      <td>खूप वर्षापूर्वीची गोष्ट आहे ही एका जंगलात एक क...</td>\n",
       "    </tr>\n",
       "    <tr>\n",
       "      <th>1</th>\n",
       "      <td>मूर्खाला उपदेश केला तर</td>\n",
       "      <td>एकदा हिमालयाच्या भागात एक वानर पावसात सचैल भिज...</td>\n",
       "    </tr>\n",
       "    <tr>\n",
       "      <th>2</th>\n",
       "      <td>ससा आणि चिमणा</td>\n",
       "      <td>एका जंगलातील झाडावर एक चिमणा रहात होता त्याला ...</td>\n",
       "    </tr>\n",
       "    <tr>\n",
       "      <th>3</th>\n",
       "      <td>दोघांच भांडण तिसऱ्याचा लाभ</td>\n",
       "      <td>एका जंगलात एका वडाच्या झाडावर बरीच माकडे राहात...</td>\n",
       "    </tr>\n",
       "    <tr>\n",
       "      <th>4</th>\n",
       "      <td>अजब ज्योतिषी</td>\n",
       "      <td>एक ज्योतिषी बाजारात बसून लोकांचे भविष्य सांगत ...</td>\n",
       "    </tr>\n",
       "  </tbody>\n",
       "</table>\n",
       "</div>"
      ],
      "text/plain": [
       "                        Title  \\\n",
       "0                ससा आणि सिंह   \n",
       "1      मूर्खाला उपदेश केला तर   \n",
       "2               ससा आणि चिमणा   \n",
       "3  दोघांच भांडण तिसऱ्याचा लाभ   \n",
       "4                अजब ज्योतिषी   \n",
       "\n",
       "                                               Story  \n",
       "0  खूप वर्षापूर्वीची गोष्ट आहे ही एका जंगलात एक क...  \n",
       "1  एकदा हिमालयाच्या भागात एक वानर पावसात सचैल भिज...  \n",
       "2  एका जंगलातील झाडावर एक चिमणा रहात होता त्याला ...  \n",
       "3  एका जंगलात एका वडाच्या झाडावर बरीच माकडे राहात...  \n",
       "4  एक ज्योतिषी बाजारात बसून लोकांचे भविष्य सांगत ...  "
      ]
     },
     "execution_count": 78,
     "metadata": {},
     "output_type": "execute_result"
    }
   ],
   "source": [
    "df1.head(5)"
   ]
  },
  {
   "cell_type": "markdown",
   "id": "f29289df",
   "metadata": {},
   "source": [
    "# Tokenizitons "
   ]
  },
  {
   "cell_type": "code",
   "execution_count": 79,
   "id": "469383ce",
   "metadata": {},
   "outputs": [
    {
     "name": "stdout",
     "output_type": "stream",
     "text": [
      "Requirement already satisfied: indic-nlp-library in c:\\users\\asus\\onedrive\\desktop\\my-project\\.venv\\lib\\site-packages (0.92)\n",
      "Requirement already satisfied: numpy in c:\\users\\asus\\onedrive\\desktop\\my-project\\.venv\\lib\\site-packages (from indic-nlp-library) (2.0.2)\n",
      "Requirement already satisfied: sphinx-argparse in c:\\users\\asus\\onedrive\\desktop\\my-project\\.venv\\lib\\site-packages (from indic-nlp-library) (0.5.2)\n",
      "Requirement already satisfied: pandas in c:\\users\\asus\\onedrive\\desktop\\my-project\\.venv\\lib\\site-packages (from indic-nlp-library) (2.2.3)\n",
      "Requirement already satisfied: sphinx-rtd-theme in c:\\users\\asus\\onedrive\\desktop\\my-project\\.venv\\lib\\site-packages (from indic-nlp-library) (3.0.1)\n",
      "Requirement already satisfied: morfessor in c:\\users\\asus\\onedrive\\desktop\\my-project\\.venv\\lib\\site-packages (from indic-nlp-library) (2.0.6)\n",
      "Requirement already satisfied: pytz>=2020.1 in c:\\users\\asus\\onedrive\\desktop\\my-project\\.venv\\lib\\site-packages (from pandas->indic-nlp-library) (2024.2)\n",
      "Requirement already satisfied: tzdata>=2022.7 in c:\\users\\asus\\onedrive\\desktop\\my-project\\.venv\\lib\\site-packages (from pandas->indic-nlp-library) (2024.2)\n",
      "Requirement already satisfied: python-dateutil>=2.8.2 in c:\\users\\asus\\onedrive\\desktop\\my-project\\.venv\\lib\\site-packages (from pandas->indic-nlp-library) (2.9.0.post0)\n",
      "Requirement already satisfied: six>=1.5 in c:\\users\\asus\\onedrive\\desktop\\my-project\\.venv\\lib\\site-packages (from python-dateutil>=2.8.2->pandas->indic-nlp-library) (1.16.0)\n",
      "Requirement already satisfied: docutils>=0.19 in c:\\users\\asus\\onedrive\\desktop\\my-project\\.venv\\lib\\site-packages (from sphinx-argparse->indic-nlp-library) (0.21.2)\n",
      "Requirement already satisfied: sphinx>=5.1.0 in c:\\users\\asus\\onedrive\\desktop\\my-project\\.venv\\lib\\site-packages (from sphinx-argparse->indic-nlp-library) (8.1.3)\n",
      "Requirement already satisfied: sphinxcontrib-devhelp>=1.0.6 in c:\\users\\asus\\onedrive\\desktop\\my-project\\.venv\\lib\\site-packages (from sphinx>=5.1.0->sphinx-argparse->indic-nlp-library) (2.0.0)\n",
      "Requirement already satisfied: sphinxcontrib-jsmath>=1.0.1 in c:\\users\\asus\\onedrive\\desktop\\my-project\\.venv\\lib\\site-packages (from sphinx>=5.1.0->sphinx-argparse->indic-nlp-library) (1.0.1)\n",
      "Requirement already satisfied: sphinxcontrib-htmlhelp>=2.0.6 in c:\\users\\asus\\onedrive\\desktop\\my-project\\.venv\\lib\\site-packages (from sphinx>=5.1.0->sphinx-argparse->indic-nlp-library) (2.1.0)\n",
      "Requirement already satisfied: packaging>=23.0 in c:\\users\\asus\\onedrive\\desktop\\my-project\\.venv\\lib\\site-packages (from sphinx>=5.1.0->sphinx-argparse->indic-nlp-library) (24.2)\n",
      "Requirement already satisfied: tomli>=2 in c:\\users\\asus\\onedrive\\desktop\\my-project\\.venv\\lib\\site-packages (from sphinx>=5.1.0->sphinx-argparse->indic-nlp-library) (2.0.2)\n",
      "Requirement already satisfied: colorama>=0.4.6 in c:\\users\\asus\\onedrive\\desktop\\my-project\\.venv\\lib\\site-packages (from sphinx>=5.1.0->sphinx-argparse->indic-nlp-library) (0.4.6)\n",
      "Requirement already satisfied: requests>=2.30.0 in c:\\users\\asus\\onedrive\\desktop\\my-project\\.venv\\lib\\site-packages (from sphinx>=5.1.0->sphinx-argparse->indic-nlp-library) (2.32.3)\n",
      "Requirement already satisfied: sphinxcontrib-applehelp>=1.0.7 in c:\\users\\asus\\onedrive\\desktop\\my-project\\.venv\\lib\\site-packages (from sphinx>=5.1.0->sphinx-argparse->indic-nlp-library) (2.0.0)\n",
      "Requirement already satisfied: snowballstemmer>=2.2 in c:\\users\\asus\\onedrive\\desktop\\my-project\\.venv\\lib\\site-packages (from sphinx>=5.1.0->sphinx-argparse->indic-nlp-library) (2.2.0)\n",
      "Requirement already satisfied: Jinja2>=3.1 in c:\\users\\asus\\onedrive\\desktop\\my-project\\.venv\\lib\\site-packages (from sphinx>=5.1.0->sphinx-argparse->indic-nlp-library) (3.1.4)\n",
      "Requirement already satisfied: imagesize>=1.3 in c:\\users\\asus\\onedrive\\desktop\\my-project\\.venv\\lib\\site-packages (from sphinx>=5.1.0->sphinx-argparse->indic-nlp-library) (1.4.1)\n",
      "Requirement already satisfied: Pygments>=2.17 in c:\\users\\asus\\onedrive\\desktop\\my-project\\.venv\\lib\\site-packages (from sphinx>=5.1.0->sphinx-argparse->indic-nlp-library) (2.18.0)\n",
      "Requirement already satisfied: sphinxcontrib-serializinghtml>=1.1.9 in c:\\users\\asus\\onedrive\\desktop\\my-project\\.venv\\lib\\site-packages (from sphinx>=5.1.0->sphinx-argparse->indic-nlp-library) (2.0.0)\n",
      "Requirement already satisfied: babel>=2.13 in c:\\users\\asus\\onedrive\\desktop\\my-project\\.venv\\lib\\site-packages (from sphinx>=5.1.0->sphinx-argparse->indic-nlp-library) (2.16.0)\n",
      "Requirement already satisfied: sphinxcontrib-qthelp>=1.0.6 in c:\\users\\asus\\onedrive\\desktop\\my-project\\.venv\\lib\\site-packages (from sphinx>=5.1.0->sphinx-argparse->indic-nlp-library) (2.0.0)\n",
      "Requirement already satisfied: alabaster>=0.7.14 in c:\\users\\asus\\onedrive\\desktop\\my-project\\.venv\\lib\\site-packages (from sphinx>=5.1.0->sphinx-argparse->indic-nlp-library) (1.0.0)\n",
      "Requirement already satisfied: MarkupSafe>=2.0 in c:\\users\\asus\\onedrive\\desktop\\my-project\\.venv\\lib\\site-packages (from Jinja2>=3.1->sphinx>=5.1.0->sphinx-argparse->indic-nlp-library) (3.0.2)\n",
      "Requirement already satisfied: certifi>=2017.4.17 in c:\\users\\asus\\onedrive\\desktop\\my-project\\.venv\\lib\\site-packages (from requests>=2.30.0->sphinx>=5.1.0->sphinx-argparse->indic-nlp-library) (2024.8.30)\n",
      "Requirement already satisfied: idna<4,>=2.5 in c:\\users\\asus\\onedrive\\desktop\\my-project\\.venv\\lib\\site-packages (from requests>=2.30.0->sphinx>=5.1.0->sphinx-argparse->indic-nlp-library) (3.10)\n",
      "Requirement already satisfied: charset-normalizer<4,>=2 in c:\\users\\asus\\onedrive\\desktop\\my-project\\.venv\\lib\\site-packages (from requests>=2.30.0->sphinx>=5.1.0->sphinx-argparse->indic-nlp-library) (3.4.0)\n",
      "Requirement already satisfied: urllib3<3,>=1.21.1 in c:\\users\\asus\\onedrive\\desktop\\my-project\\.venv\\lib\\site-packages (from requests>=2.30.0->sphinx>=5.1.0->sphinx-argparse->indic-nlp-library) (2.2.3)\n",
      "Requirement already satisfied: sphinxcontrib-jquery<5,>=4 in c:\\users\\asus\\onedrive\\desktop\\my-project\\.venv\\lib\\site-packages (from sphinx-rtd-theme->indic-nlp-library) (4.1)\n"
     ]
    },
    {
     "name": "stderr",
     "output_type": "stream",
     "text": [
      "WARNING: You are using pip version 21.2.4; however, version 24.3.1 is available.\n",
      "You should consider upgrading via the 'C:\\Users\\Asus\\OneDrive\\Desktop\\My-Project\\.venv\\Scripts\\python.exe -m pip install --upgrade pip' command.\n"
     ]
    }
   ],
   "source": [
    "! pip install indic-nlp-library\n",
    "from indicnlp.tokenize import indic_tokenize"
   ]
  },
  {
   "cell_type": "code",
   "execution_count": 80,
   "id": "dd79476c",
   "metadata": {},
   "outputs": [
    {
     "name": "stdout",
     "output_type": "stream",
     "text": [
      "\n",
      "DataFrame with Tokenized Stories:\n",
      "                                               Story  \\\n",
      "0  खूप वर्षापूर्वीची गोष्ट आहे ही एका जंगलात एक क...   \n",
      "1  एकदा हिमालयाच्या भागात एक वानर पावसात सचैल भिज...   \n",
      "2  एका जंगलातील झाडावर एक चिमणा रहात होता त्याला ...   \n",
      "3  एका जंगलात एका वडाच्या झाडावर बरीच माकडे राहात...   \n",
      "4  एक ज्योतिषी बाजारात बसून लोकांचे भविष्य सांगत ...   \n",
      "\n",
      "                                     tokenized_Story  \n",
      "0  [खूप, वर्षापूर्वीची, गोष्ट, आहे, ही, एका, जंगल...  \n",
      "1  [एकदा, हिमालयाच्या, भागात, एक, वानर, पावसात, स...  \n",
      "2  [एका, जंगलातील, झाडावर, एक, चिमणा, रहात, होता,...  \n",
      "3  [एका, जंगलात, एका, वडाच्या, झाडावर, बरीच, माकड...  \n",
      "4  [एक, ज्योतिषी, बाजारात, बसून, लोकांचे, भविष्य,...  \n"
     ]
    }
   ],
   "source": [
    "# Function to tokenize Marathi text\n",
    "def tokenize_text(text):\n",
    "    tokens = list(indic_tokenize.trivial_tokenize(text))\n",
    "    return tokens\n",
    "# Apply tokenization to the 'Story' column\n",
    "df1['tokenized_Story'] = df1['Story'].apply(tokenize_text)\n",
    "# Display the DataFrame with tokenized stories\n",
    "print(\"\\nDataFrame with Tokenized Stories:\")\n",
    "print(df1[['Story', 'tokenized_Story']].head())\n",
    "# Save the DataFrame with tokenized stories to a new CSV file\n",
    "#df.to_csv('tokenized_marathi_stories.csv', index=False, encoding='utf-8')\n",
    "#print(\"\\nTokenized data saved to 'tokenized_marathi_stories.csv'.\")\n"
   ]
  },
  {
   "cell_type": "code",
   "execution_count": 81,
   "id": "890edb2f",
   "metadata": {},
   "outputs": [
    {
     "data": {
      "text/html": [
       "<div>\n",
       "<style scoped>\n",
       "    .dataframe tbody tr th:only-of-type {\n",
       "        vertical-align: middle;\n",
       "    }\n",
       "\n",
       "    .dataframe tbody tr th {\n",
       "        vertical-align: top;\n",
       "    }\n",
       "\n",
       "    .dataframe thead th {\n",
       "        text-align: right;\n",
       "    }\n",
       "</style>\n",
       "<table border=\"1\" class=\"dataframe\">\n",
       "  <thead>\n",
       "    <tr style=\"text-align: right;\">\n",
       "      <th></th>\n",
       "      <th>Title</th>\n",
       "      <th>Story</th>\n",
       "      <th>tokenized_Story</th>\n",
       "    </tr>\n",
       "  </thead>\n",
       "  <tbody>\n",
       "    <tr>\n",
       "      <th>0</th>\n",
       "      <td>ससा आणि सिंह</td>\n",
       "      <td>खूप वर्षापूर्वीची गोष्ट आहे ही एका जंगलात एक क...</td>\n",
       "      <td>[खूप, वर्षापूर्वीची, गोष्ट, आहे, ही, एका, जंगल...</td>\n",
       "    </tr>\n",
       "    <tr>\n",
       "      <th>1</th>\n",
       "      <td>मूर्खाला उपदेश केला तर</td>\n",
       "      <td>एकदा हिमालयाच्या भागात एक वानर पावसात सचैल भिज...</td>\n",
       "      <td>[एकदा, हिमालयाच्या, भागात, एक, वानर, पावसात, स...</td>\n",
       "    </tr>\n",
       "    <tr>\n",
       "      <th>2</th>\n",
       "      <td>ससा आणि चिमणा</td>\n",
       "      <td>एका जंगलातील झाडावर एक चिमणा रहात होता त्याला ...</td>\n",
       "      <td>[एका, जंगलातील, झाडावर, एक, चिमणा, रहात, होता,...</td>\n",
       "    </tr>\n",
       "    <tr>\n",
       "      <th>3</th>\n",
       "      <td>दोघांच भांडण तिसऱ्याचा लाभ</td>\n",
       "      <td>एका जंगलात एका वडाच्या झाडावर बरीच माकडे राहात...</td>\n",
       "      <td>[एका, जंगलात, एका, वडाच्या, झाडावर, बरीच, माकड...</td>\n",
       "    </tr>\n",
       "    <tr>\n",
       "      <th>4</th>\n",
       "      <td>अजब ज्योतिषी</td>\n",
       "      <td>एक ज्योतिषी बाजारात बसून लोकांचे भविष्य सांगत ...</td>\n",
       "      <td>[एक, ज्योतिषी, बाजारात, बसून, लोकांचे, भविष्य,...</td>\n",
       "    </tr>\n",
       "  </tbody>\n",
       "</table>\n",
       "</div>"
      ],
      "text/plain": [
       "                        Title  \\\n",
       "0                ससा आणि सिंह   \n",
       "1      मूर्खाला उपदेश केला तर   \n",
       "2               ससा आणि चिमणा   \n",
       "3  दोघांच भांडण तिसऱ्याचा लाभ   \n",
       "4                अजब ज्योतिषी   \n",
       "\n",
       "                                               Story  \\\n",
       "0  खूप वर्षापूर्वीची गोष्ट आहे ही एका जंगलात एक क...   \n",
       "1  एकदा हिमालयाच्या भागात एक वानर पावसात सचैल भिज...   \n",
       "2  एका जंगलातील झाडावर एक चिमणा रहात होता त्याला ...   \n",
       "3  एका जंगलात एका वडाच्या झाडावर बरीच माकडे राहात...   \n",
       "4  एक ज्योतिषी बाजारात बसून लोकांचे भविष्य सांगत ...   \n",
       "\n",
       "                                     tokenized_Story  \n",
       "0  [खूप, वर्षापूर्वीची, गोष्ट, आहे, ही, एका, जंगल...  \n",
       "1  [एकदा, हिमालयाच्या, भागात, एक, वानर, पावसात, स...  \n",
       "2  [एका, जंगलातील, झाडावर, एक, चिमणा, रहात, होता,...  \n",
       "3  [एका, जंगलात, एका, वडाच्या, झाडावर, बरीच, माकड...  \n",
       "4  [एक, ज्योतिषी, बाजारात, बसून, लोकांचे, भविष्य,...  "
      ]
     },
     "execution_count": 81,
     "metadata": {},
     "output_type": "execute_result"
    }
   ],
   "source": [
    "df1.head()"
   ]
  },
  {
   "cell_type": "markdown",
   "id": "4ddb0eeb",
   "metadata": {},
   "source": [
    "# Remove Stop Words."
   ]
  },
  {
   "cell_type": "code",
   "execution_count": 82,
   "id": "0b9e7d50",
   "metadata": {},
   "outputs": [
    {
     "name": "stdout",
     "output_type": "stream",
     "text": [
      "\n",
      "DataFrame with Filtered Stories:\n",
      "                                               Story  \\\n",
      "0  खूप वर्षापूर्वीची गोष्ट आहे ही एका जंगलात एक क...   \n",
      "1  एकदा हिमालयाच्या भागात एक वानर पावसात सचैल भिज...   \n",
      "2  एका जंगलातील झाडावर एक चिमणा रहात होता त्याला ...   \n",
      "3  एका जंगलात एका वडाच्या झाडावर बरीच माकडे राहात...   \n",
      "4  एक ज्योतिषी बाजारात बसून लोकांचे भविष्य सांगत ...   \n",
      "\n",
      "                                     tokenized_Story  \\\n",
      "0  [खूप, वर्षापूर्वीची, गोष्ट, आहे, ही, एका, जंगल...   \n",
      "1  [एकदा, हिमालयाच्या, भागात, एक, वानर, पावसात, स...   \n",
      "2  [एका, जंगलातील, झाडावर, एक, चिमणा, रहात, होता,...   \n",
      "3  [एका, जंगलात, एका, वडाच्या, झाडावर, बरीच, माकड...   \n",
      "4  [एक, ज्योतिषी, बाजारात, बसून, लोकांचे, भविष्य,...   \n",
      "\n",
      "                                      filtered_Story  \n",
      "0  [खूप, वर्षापूर्वीची, गोष्ट, जंगलात, क्रूर, सिं...  \n",
      "1  [एकदा, हिमालयाच्या, भागात, वानर, पावसात, सचैल,...  \n",
      "2  [जंगलातील, झाडावर, चिमणा, रहात, त्याला, सोबत्य...  \n",
      "3  [जंगलात, वडाच्या, झाडावर, बरीच, माकडे, राहात, ...  \n",
      "4  [ज्योतिषी, बाजारात, बसून, लोकांचे, भविष्य, सां...  \n"
     ]
    }
   ],
   "source": [
    "# List of Marathi stop words\n",
    "marathi_stop_words = set([\n",
    "    'अधिक', 'अनेक', 'अशी', 'असलयाचे', 'असलेल्या', 'असा', 'आसून',\n",
    "'असे', 'आज', 'आणी', 'आता', 'आपल्या', 'आला', 'आली', 'आले',\n",
    "'आहे', 'आहेत', 'एक', 'एका', 'कमी', 'करणयात', 'करून', 'का', \n",
    "'काम', 'काय', 'काही', 'किवा', 'की', 'केला', 'केली', 'केले', 'कोटी',\n",
    "'गेल्या', 'घेऊन', 'जात', 'झाला', 'झाल्या', 'झाले', 'झालेल्या', 'टा', 'डॉ',\n",
    "'तर', 'तरी', 'तसेच', 'ता', 'ती', 'तीन', 'ते', 'तो', 'त्या', 'त्याचा', 'त्याची',\n",
    "'त्याच्या', 'त्याना', 'त्यानी', 'त्यामुळे', 'त्रि', 'दिली', 'दोन', 'न', 'नाही',\n",
    "'निर्णय', 'पण', 'पम', 'परयतन', 'पाटील', 'म', 'मात्र', 'माहिती', 'मी', 'मुबी',\n",
    "'म्हणजे', 'म्हणाले', 'म्हणून', 'या', 'याचा', 'याची', 'याच्या', 'याना', 'यानी', 'येणार', \n",
    "'येत', 'येथील', 'येथे', 'लाख', 'व', 'व्यक्त', 'सर्व', 'सांगितले', 'सुरू', 'हजार', 'हा', \n",
    "'ही', 'हे', 'होणार', 'होत', 'होता', 'होती', 'होते' ])\n",
    "# Function to tokenize Marathi text\n",
    "def tokenize_text(text):\n",
    "    tokens = list(indic_tokenize.trivial_tokenize(text))\n",
    "    return tokens\n",
    "\n",
    "# Tokenize the 'Story' column\n",
    "df1['tokenized_Story'] = df1['Story'].apply(tokenize_text)\n",
    "\n",
    "# Function to remove stop words from a list of tokens\n",
    "def remove_stop_words(tokens):\n",
    "    filtered_tokens = [word for word in tokens if word not in marathi_stop_words]\n",
    "    return filtered_tokens\n",
    "\n",
    "# Remove stop words from the tokenized stories\n",
    "df1['filtered_Story'] = df1['tokenized_Story'].apply(remove_stop_words)\n",
    "\n",
    "# Display the DataFrame with filtered stories\n",
    "print(\"\\nDataFrame with Filtered Stories:\")\n",
    "print(df1[['Story', 'tokenized_Story', 'filtered_Story']].head())\n"
   ]
  },
  {
   "cell_type": "code",
   "execution_count": 83,
   "id": "4f7387e1",
   "metadata": {},
   "outputs": [
    {
     "data": {
      "text/html": [
       "<div>\n",
       "<style scoped>\n",
       "    .dataframe tbody tr th:only-of-type {\n",
       "        vertical-align: middle;\n",
       "    }\n",
       "\n",
       "    .dataframe tbody tr th {\n",
       "        vertical-align: top;\n",
       "    }\n",
       "\n",
       "    .dataframe thead th {\n",
       "        text-align: right;\n",
       "    }\n",
       "</style>\n",
       "<table border=\"1\" class=\"dataframe\">\n",
       "  <thead>\n",
       "    <tr style=\"text-align: right;\">\n",
       "      <th></th>\n",
       "      <th>Title</th>\n",
       "      <th>Story</th>\n",
       "      <th>tokenized_Story</th>\n",
       "      <th>filtered_Story</th>\n",
       "    </tr>\n",
       "  </thead>\n",
       "  <tbody>\n",
       "    <tr>\n",
       "      <th>0</th>\n",
       "      <td>ससा आणि सिंह</td>\n",
       "      <td>खूप वर्षापूर्वीची गोष्ट आहे ही एका जंगलात एक क...</td>\n",
       "      <td>[खूप, वर्षापूर्वीची, गोष्ट, आहे, ही, एका, जंगल...</td>\n",
       "      <td>[खूप, वर्षापूर्वीची, गोष्ट, जंगलात, क्रूर, सिं...</td>\n",
       "    </tr>\n",
       "    <tr>\n",
       "      <th>1</th>\n",
       "      <td>मूर्खाला उपदेश केला तर</td>\n",
       "      <td>एकदा हिमालयाच्या भागात एक वानर पावसात सचैल भिज...</td>\n",
       "      <td>[एकदा, हिमालयाच्या, भागात, एक, वानर, पावसात, स...</td>\n",
       "      <td>[एकदा, हिमालयाच्या, भागात, वानर, पावसात, सचैल,...</td>\n",
       "    </tr>\n",
       "    <tr>\n",
       "      <th>2</th>\n",
       "      <td>ससा आणि चिमणा</td>\n",
       "      <td>एका जंगलातील झाडावर एक चिमणा रहात होता त्याला ...</td>\n",
       "      <td>[एका, जंगलातील, झाडावर, एक, चिमणा, रहात, होता,...</td>\n",
       "      <td>[जंगलातील, झाडावर, चिमणा, रहात, त्याला, सोबत्य...</td>\n",
       "    </tr>\n",
       "    <tr>\n",
       "      <th>3</th>\n",
       "      <td>दोघांच भांडण तिसऱ्याचा लाभ</td>\n",
       "      <td>एका जंगलात एका वडाच्या झाडावर बरीच माकडे राहात...</td>\n",
       "      <td>[एका, जंगलात, एका, वडाच्या, झाडावर, बरीच, माकड...</td>\n",
       "      <td>[जंगलात, वडाच्या, झाडावर, बरीच, माकडे, राहात, ...</td>\n",
       "    </tr>\n",
       "    <tr>\n",
       "      <th>4</th>\n",
       "      <td>अजब ज्योतिषी</td>\n",
       "      <td>एक ज्योतिषी बाजारात बसून लोकांचे भविष्य सांगत ...</td>\n",
       "      <td>[एक, ज्योतिषी, बाजारात, बसून, लोकांचे, भविष्य,...</td>\n",
       "      <td>[ज्योतिषी, बाजारात, बसून, लोकांचे, भविष्य, सां...</td>\n",
       "    </tr>\n",
       "  </tbody>\n",
       "</table>\n",
       "</div>"
      ],
      "text/plain": [
       "                        Title  \\\n",
       "0                ससा आणि सिंह   \n",
       "1      मूर्खाला उपदेश केला तर   \n",
       "2               ससा आणि चिमणा   \n",
       "3  दोघांच भांडण तिसऱ्याचा लाभ   \n",
       "4                अजब ज्योतिषी   \n",
       "\n",
       "                                               Story  \\\n",
       "0  खूप वर्षापूर्वीची गोष्ट आहे ही एका जंगलात एक क...   \n",
       "1  एकदा हिमालयाच्या भागात एक वानर पावसात सचैल भिज...   \n",
       "2  एका जंगलातील झाडावर एक चिमणा रहात होता त्याला ...   \n",
       "3  एका जंगलात एका वडाच्या झाडावर बरीच माकडे राहात...   \n",
       "4  एक ज्योतिषी बाजारात बसून लोकांचे भविष्य सांगत ...   \n",
       "\n",
       "                                     tokenized_Story  \\\n",
       "0  [खूप, वर्षापूर्वीची, गोष्ट, आहे, ही, एका, जंगल...   \n",
       "1  [एकदा, हिमालयाच्या, भागात, एक, वानर, पावसात, स...   \n",
       "2  [एका, जंगलातील, झाडावर, एक, चिमणा, रहात, होता,...   \n",
       "3  [एका, जंगलात, एका, वडाच्या, झाडावर, बरीच, माकड...   \n",
       "4  [एक, ज्योतिषी, बाजारात, बसून, लोकांचे, भविष्य,...   \n",
       "\n",
       "                                      filtered_Story  \n",
       "0  [खूप, वर्षापूर्वीची, गोष्ट, जंगलात, क्रूर, सिं...  \n",
       "1  [एकदा, हिमालयाच्या, भागात, वानर, पावसात, सचैल,...  \n",
       "2  [जंगलातील, झाडावर, चिमणा, रहात, त्याला, सोबत्य...  \n",
       "3  [जंगलात, वडाच्या, झाडावर, बरीच, माकडे, राहात, ...  \n",
       "4  [ज्योतिषी, बाजारात, बसून, लोकांचे, भविष्य, सां...  "
      ]
     },
     "execution_count": 83,
     "metadata": {},
     "output_type": "execute_result"
    }
   ],
   "source": [
    "df1.head()"
   ]
  },
  {
   "cell_type": "code",
   "execution_count": null,
   "id": "d689c1d8",
   "metadata": {},
   "outputs": [],
   "source": []
  },
  {
   "cell_type": "markdown",
   "id": "3fcf00a2",
   "metadata": {},
   "source": [
    "# Lemmatization  ( root words) on Google  colab done "
   ]
  },
  {
   "cell_type": "code",
   "execution_count": 84,
   "id": "55a67405",
   "metadata": {},
   "outputs": [
    {
     "data": {
      "text/html": [
       "<div>\n",
       "<style scoped>\n",
       "    .dataframe tbody tr th:only-of-type {\n",
       "        vertical-align: middle;\n",
       "    }\n",
       "\n",
       "    .dataframe tbody tr th {\n",
       "        vertical-align: top;\n",
       "    }\n",
       "\n",
       "    .dataframe thead th {\n",
       "        text-align: right;\n",
       "    }\n",
       "</style>\n",
       "<table border=\"1\" class=\"dataframe\">\n",
       "  <thead>\n",
       "    <tr style=\"text-align: right;\">\n",
       "      <th></th>\n",
       "      <th>Title</th>\n",
       "      <th>Story</th>\n",
       "      <th>tokenized_Story</th>\n",
       "      <th>filtered_Story</th>\n",
       "      <th>Lemmatized_Story</th>\n",
       "    </tr>\n",
       "  </thead>\n",
       "  <tbody>\n",
       "    <tr>\n",
       "      <th>0</th>\n",
       "      <td>ससा आणि सिंह</td>\n",
       "      <td>खूप वर्षापूर्वीची गोष्ट आहे ही एका जंगलात एक क...</td>\n",
       "      <td>['खूप', 'वर्षापूर्वीची', 'गोष्ट', 'आहे', 'ही',...</td>\n",
       "      <td>['खूप', 'वर्षापूर्वीची', 'गोष्ट', 'जंगलात', 'क...</td>\n",
       "      <td>[ ' खूप ' , ' वर्षा ' , ' गोष्ट ' , ' जंगलात '...</td>\n",
       "    </tr>\n",
       "    <tr>\n",
       "      <th>1</th>\n",
       "      <td>मूर्खाला उपदेश केला तर</td>\n",
       "      <td>एकदा हिमालयाच्या भागात एक वानर पावसात सचैल भिज...</td>\n",
       "      <td>['एकदा', 'हिमालयाच्या', 'भागात', 'एक', 'वानर',...</td>\n",
       "      <td>['एकदा', 'हिमालयाच्या', 'भागात', 'वानर', 'पावस...</td>\n",
       "      <td>[ ' एकदा ' , ' हिमालय ' , ' भागात ' , ' वानर '...</td>\n",
       "    </tr>\n",
       "    <tr>\n",
       "      <th>2</th>\n",
       "      <td>ससा आणि चिमणा</td>\n",
       "      <td>एका जंगलातील झाडावर एक चिमणा रहात होता त्याला ...</td>\n",
       "      <td>['एका', 'जंगलातील', 'झाडावर', 'एक', 'चिमणा', '...</td>\n",
       "      <td>['जंगलातील', 'झाडावर', 'चिमणा', 'रहात', 'त्याल...</td>\n",
       "      <td>[ ' जंगल ' , ' झाडा ' , ' चिमण ' , ' रहात ' , ...</td>\n",
       "    </tr>\n",
       "    <tr>\n",
       "      <th>3</th>\n",
       "      <td>दोघांच भांडण तिसऱ्याचा लाभ</td>\n",
       "      <td>एका जंगलात एका वडाच्या झाडावर बरीच माकडे राहात...</td>\n",
       "      <td>['एका', 'जंगलात', 'एका', 'वडाच्या', 'झाडावर', ...</td>\n",
       "      <td>['जंगलात', 'वडाच्या', 'झाडावर', 'बरीच', 'माकडे...</td>\n",
       "      <td>[ ' जंगलात ' , ' वड ' , ' झाडा ' , ' बरी ' , '...</td>\n",
       "    </tr>\n",
       "    <tr>\n",
       "      <th>4</th>\n",
       "      <td>अजब ज्योतिषी</td>\n",
       "      <td>एक ज्योतिषी बाजारात बसून लोकांचे भविष्य सांगत ...</td>\n",
       "      <td>['एक', 'ज्योतिषी', 'बाजारात', 'बसून', 'लोकांचे...</td>\n",
       "      <td>['ज्योतिषी', 'बाजारात', 'बसून', 'लोकांचे', 'भव...</td>\n",
       "      <td>[ ' ज्योतिष ' , ' बाजारात ' , ' बसून ' , ' लोक...</td>\n",
       "    </tr>\n",
       "  </tbody>\n",
       "</table>\n",
       "</div>"
      ],
      "text/plain": [
       "                        Title  \\\n",
       "0                ससा आणि सिंह   \n",
       "1      मूर्खाला उपदेश केला तर   \n",
       "2               ससा आणि चिमणा   \n",
       "3  दोघांच भांडण तिसऱ्याचा लाभ   \n",
       "4                अजब ज्योतिषी   \n",
       "\n",
       "                                               Story  \\\n",
       "0  खूप वर्षापूर्वीची गोष्ट आहे ही एका जंगलात एक क...   \n",
       "1  एकदा हिमालयाच्या भागात एक वानर पावसात सचैल भिज...   \n",
       "2  एका जंगलातील झाडावर एक चिमणा रहात होता त्याला ...   \n",
       "3  एका जंगलात एका वडाच्या झाडावर बरीच माकडे राहात...   \n",
       "4  एक ज्योतिषी बाजारात बसून लोकांचे भविष्य सांगत ...   \n",
       "\n",
       "                                     tokenized_Story  \\\n",
       "0  ['खूप', 'वर्षापूर्वीची', 'गोष्ट', 'आहे', 'ही',...   \n",
       "1  ['एकदा', 'हिमालयाच्या', 'भागात', 'एक', 'वानर',...   \n",
       "2  ['एका', 'जंगलातील', 'झाडावर', 'एक', 'चिमणा', '...   \n",
       "3  ['एका', 'जंगलात', 'एका', 'वडाच्या', 'झाडावर', ...   \n",
       "4  ['एक', 'ज्योतिषी', 'बाजारात', 'बसून', 'लोकांचे...   \n",
       "\n",
       "                                      filtered_Story  \\\n",
       "0  ['खूप', 'वर्षापूर्वीची', 'गोष्ट', 'जंगलात', 'क...   \n",
       "1  ['एकदा', 'हिमालयाच्या', 'भागात', 'वानर', 'पावस...   \n",
       "2  ['जंगलातील', 'झाडावर', 'चिमणा', 'रहात', 'त्याल...   \n",
       "3  ['जंगलात', 'वडाच्या', 'झाडावर', 'बरीच', 'माकडे...   \n",
       "4  ['ज्योतिषी', 'बाजारात', 'बसून', 'लोकांचे', 'भव...   \n",
       "\n",
       "                                    Lemmatized_Story  \n",
       "0  [ ' खूप ' , ' वर्षा ' , ' गोष्ट ' , ' जंगलात '...  \n",
       "1  [ ' एकदा ' , ' हिमालय ' , ' भागात ' , ' वानर '...  \n",
       "2  [ ' जंगल ' , ' झाडा ' , ' चिमण ' , ' रहात ' , ...  \n",
       "3  [ ' जंगलात ' , ' वड ' , ' झाडा ' , ' बरी ' , '...  \n",
       "4  [ ' ज्योतिष ' , ' बाजारात ' , ' बसून ' , ' लोक...  "
      ]
     },
     "execution_count": 84,
     "metadata": {},
     "output_type": "execute_result"
    }
   ],
   "source": [
    "df2 = pd.read_csv(R\"C:\\Users\\Asus\\OneDrive\\Desktop\\My-Project\\lemmatized story 1 (CSV)\")\n",
    "df2.head()"
   ]
  },
  {
   "cell_type": "code",
   "execution_count": 85,
   "id": "49a5b8fa",
   "metadata": {},
   "outputs": [
    {
     "name": "stdout",
     "output_type": "stream",
     "text": [
      "Requirement already satisfied: numpy in c:\\users\\asus\\onedrive\\desktop\\my-project\\.venv\\lib\\site-packages (2.0.2)\n"
     ]
    },
    {
     "name": "stderr",
     "output_type": "stream",
     "text": [
      "WARNING: You are using pip version 21.2.4; however, version 24.3.1 is available.\n",
      "You should consider upgrading via the 'C:\\Users\\Asus\\OneDrive\\Desktop\\My-Project\\.venv\\Scripts\\python.exe -m pip install --upgrade pip' command.\n"
     ]
    }
   ],
   "source": [
    "# vectoriztion ( Index-based Vectorization)\n",
    "! pip install numpy \n",
    "import numpy as np"
   ]
  },
  {
   "cell_type": "markdown",
   "id": "368c4a99",
   "metadata": {},
   "source": []
  },
  {
   "cell_type": "code",
   "execution_count": 86,
   "id": "d412b214",
   "metadata": {},
   "outputs": [
    {
     "name": "stdout",
     "output_type": "stream",
     "text": [
      "[' खूप ', ' वर्षा ', ' गोष्ट ', ' जंगलात ', ' क्रूर ', ' सिंह ', ' राहत ', ' दररोज ', ' प्राण्या ', ' ठार ', ' मारीत ', ' एके ', ' दिवशी ', ' प्राणी ', ' एकत्र ', ' प्राण्या ', ' सिंह ', ' तू ', ' प्राण्या ', ' ठार ', ' मारू ', ' नकोस ', ' विनंती ', ' माझ्या ', ' जेवणा ', ' वेळी ', ' रोज ', ' प्राण्या ', ' माझ्या ', ' पाठव ', ' अन्य ', ' प्राण्या ', ' त्रास ', ' देणार ', ' सिंह ', ' म्हणाला ', ' ज्या ', ' दिवशी ', ' एक ', ' प्राणी ', ' दिवशी ', ' तु ', ' सर्वाना ', ' ठार ', ' मरीन ', ' धमकी ', ' सिंह ', ' प्राण्या ', ' रोज ', ' ठरल्या ', ' एक ', ' प्राणी ', ' सिंह ', ' जाऊ ', ' लागला ', ' एके ', ' दिवशी ', ' सश ', ' वेळ ', ' सिंह ', ' जाय ', ' निघाला ', ' तेव्हा ', ' रस्त्या ', ' त्याला ', ' विहीर ', ' दिसली ', ' विहीर ', ' दिसता ', ' स ', ' कल्पना ', ' सुच ', ' भन्नाट ', ' कल्पना ', ' सुच ', ' आनंद ', ' स ', ' दिवस ', ' भर ', ' जंगलात ', ' फिरत ', ' राहिला ', ' संध्याकाळ ', ' उशिरा ', ' सिंह ', ' गुहे ', ' गेला ', ' सिंह ', ' त्याला ', ' गुर ', ' विचारले ', ' रे ', ' दिवसभर ', ' तू ', ' कोठे ', ' होता ', ' स ', ' अत्यंत ', ' नम्र ', ' म्हणाला ', ' येत ', ' होतो ', ' रस्त्या ', ' मला ', ' दुसरा ', ' सिंह ', ' भेट ', ' त्याने ', ' मला ', ' अडवले ', ' सिंह ', ' त्याला ', ' रागावू ', ' विचारले ', ' कोठे ', ' दुसरा ', ' सिंह ', ' स ', ' म्हणाला ', ' चल ', ' दाखव ', ' सा ', ' सिंह ', ' स्वारी ', ' निघाल ', ' दोघे ', ' विहिरी ', ' स ', ' म्हणाला ', ' महाराज ', ' सिंह ', ' विहिरी ', ' लप ', ' सिंह ', ' विहिरी ', ' डोकाव ', ' पहिले ', ' स्वत ', ' प्रतिबिंब ', ' त्याने ', ' पहिले ', ' प्रतिबिंब ', ' त्याला ', ' दुसरा ', ' सिंह ', ' वाट ', ' अत्यंत ', ' राग ', ' त्याने ', ' विहिरी ', ' उडी ', ' मारली ', ' अत्यंत ', ' खोल ', ' विहिरी ', ' सिंह ', ' पडला ', ' आणि ', ' जंगल ', ' प्राण्या ', ' प्रश्न ', ' कायम ', ' सुट ', ' प्राण्या ', ' खूप ', ' आनंद ', ' तात्पर्य\\xa0 ', ' शक्ती ', ' पेक्षा ', ' युक्त ', ' श्रेष्ठ ']\n"
     ]
    }
   ],
   "source": [
    "# For this example, we use the 'Lemmatized_Story' column\n",
    "lemmatized_stories = df2['Lemmatized_Story'].apply(eval)  # convert strings back to lists if needed\n",
    "\n",
    "# Example of a story after loading\n",
    "print(lemmatized_stories[0])\n"
   ]
  },
  {
   "cell_type": "code",
   "execution_count": 87,
   "id": "57141d52",
   "metadata": {},
   "outputs": [
    {
     "name": "stdout",
     "output_type": "stream",
     "text": [
      "['खूप', 'वर्षा', 'गोष्ट', 'जंगलात', 'क्रूर', 'सिंह', 'राहत', 'दररोज', 'प्राण्या', 'ठार', 'मारीत', 'एके', 'दिवशी', 'प्राणी', 'एकत्र', 'प्राण्या', 'सिंह', 'तू', 'प्राण्या', 'ठार', 'मारू', 'नकोस', 'विनंती', 'माझ्या', 'जेवणा', 'वेळी', 'रोज', 'प्राण्या', 'माझ्या', 'पाठव', 'अन्य', 'प्राण्या', 'त्रास', 'देणार', 'सिंह', 'म्हणाला', 'ज्या', 'दिवशी', 'एक', 'प्राणी', 'दिवशी', 'तु', 'सर्वाना', 'ठार', 'मरीन', 'धमकी', 'सिंह', 'प्राण्या', 'रोज', 'ठरल्या', 'एक', 'प्राणी', 'सिंह', 'जाऊ', 'लागला', 'एके', 'दिवशी', 'सश', 'वेळ', 'सिंह', 'जाय', 'निघाला', 'तेव्हा', 'रस्त्या', 'त्याला', 'विहीर', 'दिसली', 'विहीर', 'दिसता', 'स', 'कल्पना', 'सुच', 'भन्नाट', 'कल्पना', 'सुच', 'आनंद', 'स', 'दिवस', 'भर', 'जंगलात', 'फिरत', 'राहिला', 'संध्याकाळ', 'उशिरा', 'सिंह', 'गुहे', 'गेला', 'सिंह', 'त्याला', 'गुर', 'विचारले', 'रे', 'दिवसभर', 'तू', 'कोठे', 'होता', 'स', 'अत्यंत', 'नम्र', 'म्हणाला', 'येत', 'होतो', 'रस्त्या', 'मला', 'दुसरा', 'सिंह', 'भेट', 'त्याने', 'मला', 'अडवले', 'सिंह', 'त्याला', 'रागावू', 'विचारले', 'कोठे', 'दुसरा', 'सिंह', 'स', 'म्हणाला', 'चल', 'दाखव', 'सा', 'सिंह', 'स्वारी', 'निघाल', 'दोघे', 'विहिरी', 'स', 'म्हणाला', 'महाराज', 'सिंह', 'विहिरी', 'लप', 'सिंह', 'विहिरी', 'डोकाव', 'पहिले', 'स्वत', 'प्रतिबिंब', 'त्याने', 'पहिले', 'प्रतिबिंब', 'त्याला', 'दुसरा', 'सिंह', 'वाट', 'अत्यंत', 'राग', 'त्याने', 'विहिरी', 'उडी', 'मारली', 'अत्यंत', 'खोल', 'विहिरी', 'सिंह', 'पडला', 'आणि', 'जंगल', 'प्राण्या', 'प्रश्न', 'कायम', 'सुट', 'प्राण्या', 'खूप', 'आनंद', 'तात्पर्य', 'शक्ती', 'पेक्षा', 'युक्त', 'श्रेष्ठ']\n"
     ]
    }
   ],
   "source": [
    "# Strip extra spaces from each word in the lists\n",
    "lemmatized_stories_cleaned = lemmatized_stories.apply(lambda story: [word.strip() for word in story])\n",
    "\n",
    "# Example: Check the first story after cleaning\n",
    "print(lemmatized_stories_cleaned[0])\n"
   ]
  },
  {
   "cell_type": "code",
   "execution_count": 88,
   "id": "78ff9a73",
   "metadata": {},
   "outputs": [
    {
     "name": "stdout",
     "output_type": "stream",
     "text": [
      "Vocabulary size: 9943\n",
      "[('खूप', 1), ('वर्षा', 2), ('गोष्ट', 3), ('जंगलात', 4), ('क्रूर', 5), ('सिंह', 6), ('राहत', 7), ('दररोज', 8), ('प्राण्या', 9), ('ठार', 10), ('मारीत', 11), ('एके', 12), ('दिवशी', 13), ('प्राणी', 14), ('एकत्र', 15), ('तू', 16), ('मारू', 17), ('नकोस', 18), ('विनंती', 19), ('माझ्या', 20), ('जेवणा', 21), ('वेळी', 22), ('रोज', 23), ('पाठव', 24), ('अन्य', 25), ('त्रास', 26), ('देणार', 27), ('म्हणाला', 28), ('ज्या', 29), ('एक', 30), ('तु', 31), ('सर्वाना', 32), ('मरीन', 33), ('धमकी', 34), ('ठरल्या', 35), ('जाऊ', 36), ('लागला', 37), ('सश', 38), ('वेळ', 39), ('जाय', 40), ('निघाला', 41), ('तेव्हा', 42), ('रस्त्या', 43), ('त्याला', 44), ('विहीर', 45), ('दिसली', 46), ('दिसता', 47), ('स', 48), ('कल्पना', 49), ('सुच', 50), ('भन्नाट', 51), ('आनंद', 52), ('दिवस', 53), ('भर', 54), ('फिरत', 55), ('राहिला', 56), ('संध्याकाळ', 57), ('उशिरा', 58), ('गुहे', 59), ('गेला', 60), ('गुर', 61), ('विचारले', 62), ('रे', 63), ('दिवसभर', 64), ('कोठे', 65), ('होता', 66), ('अत्यंत', 67), ('नम्र', 68), ('येत', 69), ('होतो', 70), ('मला', 71), ('दुसरा', 72), ('भेट', 73), ('त्याने', 74), ('अडवले', 75), ('रागावू', 76), ('चल', 77), ('दाखव', 78), ('सा', 79), ('स्वारी', 80), ('निघाल', 81), ('दोघे', 82), ('विहिरी', 83), ('महाराज', 84), ('लप', 85), ('डोकाव', 86), ('पहिले', 87), ('स्वत', 88), ('प्रतिबिंब', 89), ('वाट', 90), ('राग', 91), ('उडी', 92), ('मारली', 93), ('खोल', 94), ('पडला', 95), ('आणि', 96), ('जंगल', 97), ('प्रश्न', 98), ('कायम', 99), ('सुट', 100)]\n"
     ]
    }
   ],
   "source": [
    "from collections import Counter\n",
    "\n",
    "# Step 3.1: Flatten the list of lemmatized stories to get all unique words\n",
    "all_words = [word for story in lemmatized_stories_cleaned for word in story]\n",
    "\n",
    "# Step 3.2: Get the frequency count of each word\n",
    "word_counter = Counter(all_words)\n",
    "\n",
    "# Step 3.3: Create a word-to-index mapping\n",
    "word_to_index = {word: idx+1 for idx, (word, _) in enumerate(word_counter.items())}\n",
    "\n",
    "# Step 3.4: Optionally, create an index-to-word mapping (useful for decoding predictions)\n",
    "index_to_word = {idx: word for word, idx in word_to_index.items()}\n",
    "\n",
    "# Check the size of the vocabulary\n",
    "print(f\"Vocabulary size: {len(word_to_index)}\")\n",
    "\n",
    "# Example: Show the mapping of the first few words\n",
    "print(list(word_to_index.items())[:100])\n"
   ]
  },
  {
   "cell_type": "code",
   "execution_count": null,
   "id": "cd957f82",
   "metadata": {},
   "outputs": [],
   "source": []
  },
  {
   "cell_type": "code",
   "execution_count": 89,
   "id": "29b6fe7c",
   "metadata": {},
   "outputs": [],
   "source": [
    "import pickle\n",
    "\n",
    "with open('word_to_index.pkl', 'wb') as f:\n",
    "    pickle.dump(word_to_index, f)\n",
    "\n",
    "with open('index_to_word.pkl', 'wb') as f:\n",
    "    pickle.dump(index_to_word, f)\n"
   ]
  },
  {
   "cell_type": "code",
   "execution_count": 90,
   "id": "e4bab0e9",
   "metadata": {},
   "outputs": [],
   "source": [
    "with open('word_to_index.pkl', 'rb') as f:\n",
    "    word_to_index = pickle.load(f)\n",
    "\n",
    "with open('index_to_word.pkl', 'rb') as f:\n",
    "    index_to_word = pickle.load(f)\n"
   ]
  },
  {
   "cell_type": "code",
   "execution_count": 91,
   "id": "8cf2ca86",
   "metadata": {},
   "outputs": [
    {
     "name": "stdout",
     "output_type": "stream",
     "text": [
      "First 10 entries of word_to_index:\n",
      "खूप: 1\n",
      "वर्षा: 2\n",
      "गोष्ट: 3\n",
      "जंगलात: 4\n",
      "क्रूर: 5\n",
      "सिंह: 6\n",
      "राहत: 7\n",
      "दररोज: 8\n",
      "प्राण्या: 9\n",
      "ठार: 10\n",
      "\n",
      "First 10 entries of index_to_word:\n",
      "1: खूप\n",
      "2: वर्षा\n",
      "3: गोष्ट\n",
      "4: जंगलात\n",
      "5: क्रूर\n",
      "6: सिंह\n",
      "7: राहत\n",
      "8: दररोज\n",
      "9: प्राण्या\n",
      "10: ठार\n"
     ]
    }
   ],
   "source": [
    "# Print the first 10 entries of word_to_index\n",
    "print(\"First 10 entries of word_to_index:\")\n",
    "for i, (word, index) in enumerate(word_to_index.items()):\n",
    "    if i < 10:\n",
    "        print(f\"{word}: {index}\")\n",
    "    else:\n",
    "        break\n",
    "\n",
    "# Print the first 10 entries of index_to_word\n",
    "print(\"\\nFirst 10 entries of index_to_word:\")\n",
    "for i, (index, word) in enumerate(index_to_word.items()):\n",
    "    if i < 10:\n",
    "        print(f\"{index}: {word}\")\n",
    "    else:\n",
    "        break\n"
   ]
  },
  {
   "cell_type": "code",
   "execution_count": 92,
   "id": "d3944b5f",
   "metadata": {},
   "outputs": [
    {
     "name": "stdout",
     "output_type": "stream",
     "text": [
      "0    [1, 2, 3, 4, 5, 6, 7, 8, 9, 10, 11, 12, 13, 14...\n",
      "1    [106, 107, 108, 109, 110, 48, 111, 112, 113, 1...\n",
      "2    [97, 114, 211, 212, 44, 213, 214, 215, 216, 21...\n",
      "3    [4, 342, 114, 343, 344, 119, 345, 106, 346, 34...\n",
      "4    [419, 420, 177, 421, 422, 423, 424, 330, 425, ...\n",
      "Name: Lemmatized_Story, dtype: object\n"
     ]
    }
   ],
   "source": [
    "# Step 4.1: Function to convert stories into sequences of indices \n",
    "def vectorize_story(story, word_to_index):\n",
    "    return [word_to_index[word] for word in story if word in word_to_index]\n",
    "\n",
    "# Step 4.2: Apply the vectorization function to all lemmatized stories\n",
    "vectorized_stories = lemmatized_stories_cleaned.apply(lambda story: vectorize_story(story, word_to_index))\n",
    "\n",
    "# Check the output for a few stories\n",
    "print(vectorized_stories[:5])  # Check the first few vectorized stories"
   ]
  },
  {
   "cell_type": "code",
   "execution_count": 93,
   "id": "425d5842",
   "metadata": {},
   "outputs": [],
   "source": [
    "!\n"
   ]
  },
  {
   "cell_type": "code",
   "execution_count": 94,
   "id": "77a17ade",
   "metadata": {},
   "outputs": [
    {
     "name": "stdout",
     "output_type": "stream",
     "text": [
      "Padded Example Story: [ 50  51  49  50  52  48  53  54   4  55  56  57  58   6  59  60   6  44\n",
      "  61  62  63  64  16  65  66  48  67  68  28  69  70  43  71  72   6  73\n",
      "  74  71  75   6  44  76  62  65  72   6  48  28  77  78  79   6  80  81\n",
      "  82  83  48  28  84   6  83  85   6  83  86  87  88  89  74  87  89  44\n",
      "  72   6  90  67  91  74  83  92  93  67  94  83   6  95  96  97   9  98\n",
      "  99 100   9   1  52 101 102 103 104 105]\n",
      "Shape of padded stories: (857, 100)\n"
     ]
    }
   ],
   "source": [
    "from tensorflow.keras.preprocessing.sequence import pad_sequences\n",
    "\n",
    "# Step 5.1: Define a maximum sequence length (based on your dataset, or choose a reasonable limit)\n",
    "max_sequence_length = 100  # You can adjust this based on your data\n",
    "\n",
    "# Step 5.2: Pad the sequences with zeros at the beginning (pre-padding)\n",
    "padded_stories = pad_sequences(vectorized_stories, maxlen=max_sequence_length, padding='pre')\n",
    "\n",
    "# Step 5.3: Check an example of a padded story\n",
    "print(\"Padded Example Story:\", padded_stories[0])  # Display the first padded story\n",
    "print(\"Shape of padded stories:\", padded_stories.shape)\n",
    "\n"
   ]
  },
  {
   "cell_type": "code",
   "execution_count": 95,
   "id": "a35a08e7",
   "metadata": {},
   "outputs": [
    {
     "name": "stdout",
     "output_type": "stream",
     "text": [
      "[[  50   51   49 ... 1539 1376  838]]\n"
     ]
    }
   ],
   "source": [
    "\n",
    "import numpy as np\n",
    "\n",
    "# Example: Define padded_seed with some sequence (this should be your actual sequence data)\n",
    "#padded_seed = [1, 34, 56, 78, 23]  # Replace with your actual padded sequence\n",
    "\n",
    "# Convert to a NumPy array\n",
    "padded_seed = np.array(padded_stories)\n",
    "\n",
    "# Ensure it is of type float32\n",
    "padded_seed = padded_stories.astype(np.float32)\n",
    "\n",
    "# Ensure the shape is correct\n",
    "padded_seed = np.reshape(padded_stories, (1, -1))  # Reshape to (1, sequence_length) if needed\n",
    "\n",
    "print(padded_seed)"
   ]
  },
  {
   "cell_type": "code",
   "execution_count": 96,
   "id": "e2cac49b",
   "metadata": {},
   "outputs": [
    {
     "name": "stdout",
     "output_type": "stream",
     "text": [
      "(1, 857, 100)\n"
     ]
    }
   ],
   "source": [
    "import numpy as np\n",
    "\n",
    "# Assuming padded_stories is already defined and has shape (857, 100)\n",
    "\n",
    "# Step 1: Convert to NumPy array (if not already)\n",
    "padded_seed = np.array(padded_stories)\n",
    "\n",
    "# Step 2: Ensure the type is float32 (for model input compatibility)\n",
    "padded_seed = padded_seed.astype(np.float32)\n",
    "\n",
    "# Step 3: If you need to reshape it for a model (not necessarily flattening)\n",
    "# If your model expects a batch size of 1 with multiple sequences, you could reshape it like this:\n",
    "padded_seed = np.reshape(padded_seed, (1, padded_seed.shape[0], padded_seed.shape[1]))  # (1, 857, 100)\n",
    "\n",
    "print(padded_seed.shape)  # Should print (1, 857, 100)\n"
   ]
  },
  {
   "cell_type": "markdown",
   "id": "6c2d3d0c",
   "metadata": {},
   "source": [
    "# Check the first few entries in lemmatized_stories_cleaned"
   ]
  },
  {
   "cell_type": "code",
   "execution_count": 97,
   "id": "e8932162",
   "metadata": {},
   "outputs": [
    {
     "name": "stdout",
     "output_type": "stream",
     "text": [
      "0    [खूप, वर्षा, गोष्ट, जंगलात, क्रूर, सिंह, राहत,...\n",
      "1    [एकदा, हिमालय, भागात, वानर, पावसात, स, भिज, थं...\n",
      "2    [जंगल, झाडा, चिमण, रहात, त्याला, सोबत, कळले, ब...\n",
      "3    [जंगलात, वड, झाडा, बरी, मा, राहात, असत, एकदा, ...\n",
      "4    [ज्योतिष, बाजारात, बसून, लोक, भविष्य, सांगत, ध...\n",
      "Name: Lemmatized_Story, dtype: object\n"
     ]
    }
   ],
   "source": [
    "\n",
    "print(lemmatized_stories_cleaned[:5])"
   ]
  },
  {
   "cell_type": "code",
   "execution_count": 98,
   "id": "30cb5de1",
   "metadata": {},
   "outputs": [
    {
     "name": "stdout",
     "output_type": "stream",
     "text": [
      "Example Story (Lemmatized): ['खूप', 'वर्षा', 'गोष्ट', 'जंगलात', 'क्रूर', 'सिंह', 'राहत', 'दररोज', 'प्राण्या', 'ठार', 'मारीत', 'एके', 'दिवशी', 'प्राणी', 'एकत्र', 'प्राण्या', 'सिंह', 'तू', 'प्राण्या', 'ठार', 'मारू', 'नकोस', 'विनंती', 'माझ्या', 'जेवणा', 'वेळी', 'रोज', 'प्राण्या', 'माझ्या', 'पाठव', 'अन्य', 'प्राण्या', 'त्रास', 'देणार', 'सिंह', 'म्हणाला', 'ज्या', 'दिवशी', 'एक', 'प्राणी', 'दिवशी', 'तु', 'सर्वाना', 'ठार', 'मरीन', 'धमकी', 'सिंह', 'प्राण्या', 'रोज', 'ठरल्या', 'एक', 'प्राणी', 'सिंह', 'जाऊ', 'लागला', 'एके', 'दिवशी', 'सश', 'वेळ', 'सिंह', 'जाय', 'निघाला', 'तेव्हा', 'रस्त्या', 'त्याला', 'विहीर', 'दिसली', 'विहीर', 'दिसता', 'स', 'कल्पना', 'सुच', 'भन्नाट', 'कल्पना', 'सुच', 'आनंद', 'स', 'दिवस', 'भर', 'जंगलात', 'फिरत', 'राहिला', 'संध्याकाळ', 'उशिरा', 'सिंह', 'गुहे', 'गेला', 'सिंह', 'त्याला', 'गुर', 'विचारले', 'रे', 'दिवसभर', 'तू', 'कोठे', 'होता', 'स', 'अत्यंत', 'नम्र', 'म्हणाला', 'येत', 'होतो', 'रस्त्या', 'मला', 'दुसरा', 'सिंह', 'भेट', 'त्याने', 'मला', 'अडवले', 'सिंह', 'त्याला', 'रागावू', 'विचारले', 'कोठे', 'दुसरा', 'सिंह', 'स', 'म्हणाला', 'चल', 'दाखव', 'सा', 'सिंह', 'स्वारी', 'निघाल', 'दोघे', 'विहिरी', 'स', 'म्हणाला', 'महाराज', 'सिंह', 'विहिरी', 'लप', 'सिंह', 'विहिरी', 'डोकाव', 'पहिले', 'स्वत', 'प्रतिबिंब', 'त्याने', 'पहिले', 'प्रतिबिंब', 'त्याला', 'दुसरा', 'सिंह', 'वाट', 'अत्यंत', 'राग', 'त्याने', 'विहिरी', 'उडी', 'मारली', 'अत्यंत', 'खोल', 'विहिरी', 'सिंह', 'पडला', 'आणि', 'जंगल', 'प्राण्या', 'प्रश्न', 'कायम', 'सुट', 'प्राण्या', 'खूप', 'आनंद', 'तात्पर्य', 'शक्ती', 'पेक्षा', 'युक्त', 'श्रेष्ठ']\n",
      "Vectorized Example: [1, 2, 3, 4, 5, 6, 7, 8, 9, 10, 11, 12, 13, 14, 15, 9, 6, 16, 9, 10, 17, 18, 19, 20, 21, 22, 23, 9, 20, 24, 25, 9, 26, 27, 6, 28, 29, 13, 30, 14, 13, 31, 32, 10, 33, 34, 6, 9, 23, 35, 30, 14, 6, 36, 37, 12, 13, 38, 39, 6, 40, 41, 42, 43, 44, 45, 46, 45, 47, 48, 49, 50, 51, 49, 50, 52, 48, 53, 54, 4, 55, 56, 57, 58, 6, 59, 60, 6, 44, 61, 62, 63, 64, 16, 65, 66, 48, 67, 68, 28, 69, 70, 43, 71, 72, 6, 73, 74, 71, 75, 6, 44, 76, 62, 65, 72, 6, 48, 28, 77, 78, 79, 6, 80, 81, 82, 83, 48, 28, 84, 6, 83, 85, 6, 83, 86, 87, 88, 89, 74, 87, 89, 44, 72, 6, 90, 67, 91, 74, 83, 92, 93, 67, 94, 83, 6, 95, 96, 97, 9, 98, 99, 100, 9, 1, 52, 101, 102, 103, 104, 105]\n"
     ]
    }
   ],
   "source": [
    "# Test vectorization with the first story\n",
    "example_story = lemmatized_stories_cleaned[0]  # First lemmatized story\n",
    "print(\"Example Story (Lemmatized):\", example_story)\n",
    "\n",
    "# Vectorize the example story\n",
    "vectorized_example = vectorize_story(example_story, word_to_index)\n",
    "print(\"Vectorized Example:\", vectorized_example)\n"
   ]
  },
  {
   "cell_type": "code",
   "execution_count": null,
   "id": "f5019464",
   "metadata": {},
   "outputs": [],
   "source": []
  },
  {
   "cell_type": "code",
   "execution_count": null,
   "id": "38708e9e",
   "metadata": {},
   "outputs": [],
   "source": []
  },
  {
   "cell_type": "code",
   "execution_count": null,
   "id": "fb89c699",
   "metadata": {},
   "outputs": [],
   "source": []
  },
  {
   "cell_type": "code",
   "execution_count": null,
   "id": "5df8b2e7",
   "metadata": {},
   "outputs": [],
   "source": []
  },
  {
   "cell_type": "code",
   "execution_count": null,
   "id": "de797343",
   "metadata": {},
   "outputs": [],
   "source": []
  },
  {
   "cell_type": "markdown",
   "id": "5f443b90",
   "metadata": {},
   "source": [
    "# Prepare Training and Validation Data"
   ]
  },
  {
   "cell_type": "markdown",
   "id": "055db45c",
   "metadata": {},
   "source": []
  },
  {
   "cell_type": "code",
   "execution_count": 99,
   "id": "e4ad69e8",
   "metadata": {},
   "outputs": [
    {
     "name": "stdout",
     "output_type": "stream",
     "text": [
      "Encoded Labels shape: (857, 100)\n"
     ]
    }
   ],
   "source": [
    "# Example: Create encoded labels based on your stories\n",
    "# Here, we're using the next word as the label for the training\n",
    "# You can adjust this according to your requirement\n",
    "\n",
    "# Create a list to hold encoded labels\n",
    "encoded_labels = []\n",
    "\n",
    "for story in vectorized_stories:\n",
    "    # Get the next word for each story as the label (assuming you want to predict the next word)\n",
    "    # Adjust this according to your needs (you may want to predict based on a different strategy)\n",
    "    if len(story) > 1:\n",
    "        encoded_labels.append(story[1:])  # Use the rest of the story as labels\n",
    "    else:\n",
    "        encoded_labels.append([0])  # Placeholder if the story is too short\n",
    "\n",
    "# Make sure to have the correct shape\n",
    "encoded_labels = pad_sequences(encoded_labels, maxlen=max_sequence_length, padding='pre')\n",
    "\n",
    "# Convert to a numpy array if necessary\n",
    "encoded_labels = np.array(encoded_labels)\n",
    "\n",
    "# Check the shape of encoded labels\n",
    "print(\"Encoded Labels shape:\", encoded_labels.shape)\n"
   ]
  },
  {
   "cell_type": "code",
   "execution_count": 100,
   "id": "ae8e9803",
   "metadata": {},
   "outputs": [
    {
     "name": "stdout",
     "output_type": "stream",
     "text": [
      "Training set shape: (685, 100)\n",
      "Validation set shape: (172, 100)\n",
      "Training labels shape: (685, 100)\n",
      "Validation labels shape: (172, 100)\n"
     ]
    }
   ],
   "source": [
    "from sklearn.model_selection import train_test_split\n",
    "\n",
    "# Split the dataset into training and validation sets\n",
    "X_train, X_val, y_train, y_val = train_test_split(padded_stories, encoded_labels, test_size=0.2, random_state=42)\n",
    "\n",
    "# Check the shapes of the resulting sets\n",
    "print(\"Training set shape:\", X_train.shape)\n",
    "print(\"Validation set shape:\", X_val.shape)\n",
    "print(\"Training labels shape:\", y_train.shape)\n",
    "print(\"Validation labels shape:\", y_val.shape)\n"
   ]
  },
  {
   "cell_type": "code",
   "execution_count": null,
   "id": "7c99378f",
   "metadata": {},
   "outputs": [],
   "source": []
  },
  {
   "cell_type": "markdown",
   "id": "a200ccdb",
   "metadata": {},
   "source": [
    "# LSTM MODEL"
   ]
  },
  {
   "cell_type": "code",
   "execution_count": 101,
   "id": "ee1ce31a",
   "metadata": {},
   "outputs": [
    {
     "name": "stderr",
     "output_type": "stream",
     "text": [
      "c:\\Users\\Asus\\OneDrive\\Desktop\\My-Project\\.venv\\lib\\site-packages\\keras\\src\\layers\\core\\embedding.py:90: UserWarning: Argument `input_length` is deprecated. Just remove it.\n",
      "  warnings.warn(\n"
     ]
    },
    {
     "data": {
      "text/html": [
       "<pre style=\"white-space:pre;overflow-x:auto;line-height:normal;font-family:Menlo,'DejaVu Sans Mono',consolas,'Courier New',monospace\"><span style=\"font-weight: bold\">Model: \"sequential_1\"</span>\n",
       "</pre>\n"
      ],
      "text/plain": [
       "\u001b[1mModel: \"sequential_1\"\u001b[0m\n"
      ]
     },
     "metadata": {},
     "output_type": "display_data"
    },
    {
     "data": {
      "text/html": [
       "<pre style=\"white-space:pre;overflow-x:auto;line-height:normal;font-family:Menlo,'DejaVu Sans Mono',consolas,'Courier New',monospace\">┏━━━━━━━━━━━━━━━━━━━━━━━━━━━━━━━━━┳━━━━━━━━━━━━━━━━━━━━━━━━┳━━━━━━━━━━━━━━━┓\n",
       "┃<span style=\"font-weight: bold\"> Layer (type)                    </span>┃<span style=\"font-weight: bold\"> Output Shape           </span>┃<span style=\"font-weight: bold\">       Param # </span>┃\n",
       "┡━━━━━━━━━━━━━━━━━━━━━━━━━━━━━━━━━╇━━━━━━━━━━━━━━━━━━━━━━━━╇━━━━━━━━━━━━━━━┩\n",
       "│ embedding_1 (<span style=\"color: #0087ff; text-decoration-color: #0087ff\">Embedding</span>)         │ (<span style=\"color: #00d7ff; text-decoration-color: #00d7ff\">None</span>, <span style=\"color: #00af00; text-decoration-color: #00af00\">5</span>, <span style=\"color: #00af00; text-decoration-color: #00af00\">128</span>)         │     <span style=\"color: #00af00; text-decoration-color: #00af00\">1,272,832</span> │\n",
       "├─────────────────────────────────┼────────────────────────┼───────────────┤\n",
       "│ bidirectional_1 (<span style=\"color: #0087ff; text-decoration-color: #0087ff\">Bidirectional</span>) │ (<span style=\"color: #00d7ff; text-decoration-color: #00d7ff\">None</span>, <span style=\"color: #00af00; text-decoration-color: #00af00\">5</span>, <span style=\"color: #00af00; text-decoration-color: #00af00\">256</span>)         │       <span style=\"color: #00af00; text-decoration-color: #00af00\">263,168</span> │\n",
       "├─────────────────────────────────┼────────────────────────┼───────────────┤\n",
       "│ dropout_2 (<span style=\"color: #0087ff; text-decoration-color: #0087ff\">Dropout</span>)             │ (<span style=\"color: #00d7ff; text-decoration-color: #00d7ff\">None</span>, <span style=\"color: #00af00; text-decoration-color: #00af00\">5</span>, <span style=\"color: #00af00; text-decoration-color: #00af00\">256</span>)         │             <span style=\"color: #00af00; text-decoration-color: #00af00\">0</span> │\n",
       "├─────────────────────────────────┼────────────────────────┼───────────────┤\n",
       "│ dense_2 (<span style=\"color: #0087ff; text-decoration-color: #0087ff\">Dense</span>)                 │ (<span style=\"color: #00d7ff; text-decoration-color: #00d7ff\">None</span>, <span style=\"color: #00af00; text-decoration-color: #00af00\">5</span>, <span style=\"color: #00af00; text-decoration-color: #00af00\">128</span>)         │        <span style=\"color: #00af00; text-decoration-color: #00af00\">32,896</span> │\n",
       "├─────────────────────────────────┼────────────────────────┼───────────────┤\n",
       "│ dropout_3 (<span style=\"color: #0087ff; text-decoration-color: #0087ff\">Dropout</span>)             │ (<span style=\"color: #00d7ff; text-decoration-color: #00d7ff\">None</span>, <span style=\"color: #00af00; text-decoration-color: #00af00\">5</span>, <span style=\"color: #00af00; text-decoration-color: #00af00\">128</span>)         │             <span style=\"color: #00af00; text-decoration-color: #00af00\">0</span> │\n",
       "├─────────────────────────────────┼────────────────────────┼───────────────┤\n",
       "│ dense_3 (<span style=\"color: #0087ff; text-decoration-color: #0087ff\">Dense</span>)                 │ (<span style=\"color: #00d7ff; text-decoration-color: #00d7ff\">None</span>, <span style=\"color: #00af00; text-decoration-color: #00af00\">5</span>, <span style=\"color: #00af00; text-decoration-color: #00af00\">9944</span>)        │     <span style=\"color: #00af00; text-decoration-color: #00af00\">1,282,776</span> │\n",
       "└─────────────────────────────────┴────────────────────────┴───────────────┘\n",
       "</pre>\n"
      ],
      "text/plain": [
       "┏━━━━━━━━━━━━━━━━━━━━━━━━━━━━━━━━━┳━━━━━━━━━━━━━━━━━━━━━━━━┳━━━━━━━━━━━━━━━┓\n",
       "┃\u001b[1m \u001b[0m\u001b[1mLayer (type)                   \u001b[0m\u001b[1m \u001b[0m┃\u001b[1m \u001b[0m\u001b[1mOutput Shape          \u001b[0m\u001b[1m \u001b[0m┃\u001b[1m \u001b[0m\u001b[1m      Param #\u001b[0m\u001b[1m \u001b[0m┃\n",
       "┡━━━━━━━━━━━━━━━━━━━━━━━━━━━━━━━━━╇━━━━━━━━━━━━━━━━━━━━━━━━╇━━━━━━━━━━━━━━━┩\n",
       "│ embedding_1 (\u001b[38;5;33mEmbedding\u001b[0m)         │ (\u001b[38;5;45mNone\u001b[0m, \u001b[38;5;34m5\u001b[0m, \u001b[38;5;34m128\u001b[0m)         │     \u001b[38;5;34m1,272,832\u001b[0m │\n",
       "├─────────────────────────────────┼────────────────────────┼───────────────┤\n",
       "│ bidirectional_1 (\u001b[38;5;33mBidirectional\u001b[0m) │ (\u001b[38;5;45mNone\u001b[0m, \u001b[38;5;34m5\u001b[0m, \u001b[38;5;34m256\u001b[0m)         │       \u001b[38;5;34m263,168\u001b[0m │\n",
       "├─────────────────────────────────┼────────────────────────┼───────────────┤\n",
       "│ dropout_2 (\u001b[38;5;33mDropout\u001b[0m)             │ (\u001b[38;5;45mNone\u001b[0m, \u001b[38;5;34m5\u001b[0m, \u001b[38;5;34m256\u001b[0m)         │             \u001b[38;5;34m0\u001b[0m │\n",
       "├─────────────────────────────────┼────────────────────────┼───────────────┤\n",
       "│ dense_2 (\u001b[38;5;33mDense\u001b[0m)                 │ (\u001b[38;5;45mNone\u001b[0m, \u001b[38;5;34m5\u001b[0m, \u001b[38;5;34m128\u001b[0m)         │        \u001b[38;5;34m32,896\u001b[0m │\n",
       "├─────────────────────────────────┼────────────────────────┼───────────────┤\n",
       "│ dropout_3 (\u001b[38;5;33mDropout\u001b[0m)             │ (\u001b[38;5;45mNone\u001b[0m, \u001b[38;5;34m5\u001b[0m, \u001b[38;5;34m128\u001b[0m)         │             \u001b[38;5;34m0\u001b[0m │\n",
       "├─────────────────────────────────┼────────────────────────┼───────────────┤\n",
       "│ dense_3 (\u001b[38;5;33mDense\u001b[0m)                 │ (\u001b[38;5;45mNone\u001b[0m, \u001b[38;5;34m5\u001b[0m, \u001b[38;5;34m9944\u001b[0m)        │     \u001b[38;5;34m1,282,776\u001b[0m │\n",
       "└─────────────────────────────────┴────────────────────────┴───────────────┘\n"
      ]
     },
     "metadata": {},
     "output_type": "display_data"
    },
    {
     "data": {
      "text/html": [
       "<pre style=\"white-space:pre;overflow-x:auto;line-height:normal;font-family:Menlo,'DejaVu Sans Mono',consolas,'Courier New',monospace\"><span style=\"font-weight: bold\"> Total params: </span><span style=\"color: #00af00; text-decoration-color: #00af00\">2,851,672</span> (10.88 MB)\n",
       "</pre>\n"
      ],
      "text/plain": [
       "\u001b[1m Total params: \u001b[0m\u001b[38;5;34m2,851,672\u001b[0m (10.88 MB)\n"
      ]
     },
     "metadata": {},
     "output_type": "display_data"
    },
    {
     "data": {
      "text/html": [
       "<pre style=\"white-space:pre;overflow-x:auto;line-height:normal;font-family:Menlo,'DejaVu Sans Mono',consolas,'Courier New',monospace\"><span style=\"font-weight: bold\"> Trainable params: </span><span style=\"color: #00af00; text-decoration-color: #00af00\">2,851,672</span> (10.88 MB)\n",
       "</pre>\n"
      ],
      "text/plain": [
       "\u001b[1m Trainable params: \u001b[0m\u001b[38;5;34m2,851,672\u001b[0m (10.88 MB)\n"
      ]
     },
     "metadata": {},
     "output_type": "display_data"
    },
    {
     "data": {
      "text/html": [
       "<pre style=\"white-space:pre;overflow-x:auto;line-height:normal;font-family:Menlo,'DejaVu Sans Mono',consolas,'Courier New',monospace\"><span style=\"font-weight: bold\"> Non-trainable params: </span><span style=\"color: #00af00; text-decoration-color: #00af00\">0</span> (0.00 B)\n",
       "</pre>\n"
      ],
      "text/plain": [
       "\u001b[1m Non-trainable params: \u001b[0m\u001b[38;5;34m0\u001b[0m (0.00 B)\n"
      ]
     },
     "metadata": {},
     "output_type": "display_data"
    }
   ],
   "source": [
    "# Importing necessary libraries\n",
    "from tensorflow.keras.models import Sequential\n",
    "from tensorflow.keras.layers import Embedding, LSTM, Dense, Bidirectional, Dropout\n",
    "\n",
    "# Define necessary parameters\n",
    "vocab_size = len(word_to_index) + 1  # Vocabulary size (words in the dictionary + 1 for padding)\n",
    "embedding_dim = 128  # Dimensionality of the embedding layer\n",
    "max_sequence_length = 5  # Example input length\n",
    "\n",
    "# Step 6.1: Define the model\n",
    "model = Sequential()\n",
    "\n",
    "# Step 6.2: Add an embedding layer with input_shape\n",
    "model.add(Embedding(input_dim=vocab_size, output_dim=embedding_dim, input_length=max_sequence_length))\n",
    "\n",
    "# Step 6.3: Add a Bidirectional LSTM layer\n",
    "model.add(Bidirectional(LSTM(128, return_sequences=True)))  # Increased units to 128 for more learning capacity\n",
    "\n",
    "# Step 6.4: Add Dropout layer to prevent overfitting\n",
    "model.add(Dropout(0.3))  # Dropout rate of 0.3\n",
    "\n",
    "# Step 6.5: Add a Dense layer with relu activation for feature extraction\n",
    "model.add(Dense(128, activation='relu'))\n",
    "\n",
    "# Step 6.6: Add another Dropout layer for further regularization\n",
    "model.add(Dropout(0.3))\n",
    "\n",
    "# Step 6.7: Add a Dense layer for output with softmax activation\n",
    "model.add(Dense(vocab_size, activation='softmax'))\n",
    "\n",
    "# Explicitly build the model by providing input shape\n",
    "model.build(input_shape=(None, max_sequence_length))\n",
    "\n",
    "# Step 6.8: Compile the model\n",
    "model.compile(loss='sparse_categorical_crossentropy', optimizer='adam', metrics=['accuracy'])\n",
    "\n",
    "# Display the model summary\n",
    "model.summary()\n"
   ]
  },
  {
   "cell_type": "code",
   "execution_count": null,
   "id": "ccec1dc9",
   "metadata": {},
   "outputs": [],
   "source": []
  },
  {
   "cell_type": "code",
   "execution_count": null,
   "id": "85d9f6a1",
   "metadata": {},
   "outputs": [],
   "source": []
  },
  {
   "cell_type": "code",
   "execution_count": 102,
   "id": "d39bb281",
   "metadata": {},
   "outputs": [
    {
     "name": "stdout",
     "output_type": "stream",
     "text": [
      "Epoch 1/80\n",
      "\u001b[1m11/11\u001b[0m \u001b[32m━━━━━━━━━━━━━━━━━━━━\u001b[0m\u001b[37m\u001b[0m \u001b[1m17s\u001b[0m 1s/step - accuracy: 0.0278 - loss: 9.1964 - val_accuracy: 0.0259 - val_loss: 9.0705\n",
      "Epoch 2/80\n",
      "\u001b[1m11/11\u001b[0m \u001b[32m━━━━━━━━━━━━━━━━━━━━\u001b[0m\u001b[37m\u001b[0m \u001b[1m12s\u001b[0m 1s/step - accuracy: 0.0259 - loss: 8.5849 - val_accuracy: 0.0259 - val_loss: 7.9095\n",
      "Epoch 3/80\n",
      "\u001b[1m11/11\u001b[0m \u001b[32m━━━━━━━━━━━━━━━━━━━━\u001b[0m\u001b[37m\u001b[0m \u001b[1m12s\u001b[0m 1s/step - accuracy: 0.0236 - loss: 7.7247 - val_accuracy: 0.0232 - val_loss: 7.7524\n",
      "Epoch 4/80\n",
      "\u001b[1m11/11\u001b[0m \u001b[32m━━━━━━━━━━━━━━━━━━━━\u001b[0m\u001b[37m\u001b[0m \u001b[1m12s\u001b[0m 1s/step - accuracy: 0.0285 - loss: 7.5820 - val_accuracy: 0.0259 - val_loss: 7.6251\n",
      "Epoch 5/80\n",
      "\u001b[1m11/11\u001b[0m \u001b[32m━━━━━━━━━━━━━━━━━━━━\u001b[0m\u001b[37m\u001b[0m \u001b[1m12s\u001b[0m 1s/step - accuracy: 0.0321 - loss: 7.4159 - val_accuracy: 0.0463 - val_loss: 7.5047\n",
      "Epoch 6/80\n",
      "\u001b[1m11/11\u001b[0m \u001b[32m━━━━━━━━━━━━━━━━━━━━\u001b[0m\u001b[37m\u001b[0m \u001b[1m12s\u001b[0m 1s/step - accuracy: 0.0366 - loss: 7.3066 - val_accuracy: 0.0265 - val_loss: 7.3804\n",
      "Epoch 7/80\n",
      "\u001b[1m11/11\u001b[0m \u001b[32m━━━━━━━━━━━━━━━━━━━━\u001b[0m\u001b[37m\u001b[0m \u001b[1m12s\u001b[0m 1s/step - accuracy: 0.0368 - loss: 7.2060 - val_accuracy: 0.0463 - val_loss: 7.2620\n",
      "Epoch 8/80\n",
      "\u001b[1m11/11\u001b[0m \u001b[32m━━━━━━━━━━━━━━━━━━━━\u001b[0m\u001b[37m\u001b[0m \u001b[1m12s\u001b[0m 1s/step - accuracy: 0.0466 - loss: 7.0476 - val_accuracy: 0.0467 - val_loss: 7.1512\n",
      "Epoch 9/80\n",
      "\u001b[1m11/11\u001b[0m \u001b[32m━━━━━━━━━━━━━━━━━━━━\u001b[0m\u001b[37m\u001b[0m \u001b[1m12s\u001b[0m 1s/step - accuracy: 0.0514 - loss: 6.9381 - val_accuracy: 0.0465 - val_loss: 7.0581\n",
      "Epoch 10/80\n",
      "\u001b[1m11/11\u001b[0m \u001b[32m━━━━━━━━━━━━━━━━━━━━\u001b[0m\u001b[37m\u001b[0m \u001b[1m12s\u001b[0m 1s/step - accuracy: 0.0493 - loss: 6.8727 - val_accuracy: 0.0465 - val_loss: 6.9825\n",
      "Epoch 11/80\n",
      "\u001b[1m11/11\u001b[0m \u001b[32m━━━━━━━━━━━━━━━━━━━━\u001b[0m\u001b[37m\u001b[0m \u001b[1m13s\u001b[0m 1s/step - accuracy: 0.0523 - loss: 6.7766 - val_accuracy: 0.0472 - val_loss: 6.9113\n",
      "Epoch 12/80\n",
      "\u001b[1m11/11\u001b[0m \u001b[32m━━━━━━━━━━━━━━━━━━━━\u001b[0m\u001b[37m\u001b[0m \u001b[1m14s\u001b[0m 1s/step - accuracy: 0.0458 - loss: 6.7563 - val_accuracy: 0.0475 - val_loss: 6.8402\n",
      "Epoch 13/80\n",
      "\u001b[1m11/11\u001b[0m \u001b[32m━━━━━━━━━━━━━━━━━━━━\u001b[0m\u001b[37m\u001b[0m \u001b[1m13s\u001b[0m 1s/step - accuracy: 0.0519 - loss: 6.6337 - val_accuracy: 0.0481 - val_loss: 6.7786\n",
      "Epoch 14/80\n",
      "\u001b[1m11/11\u001b[0m \u001b[32m━━━━━━━━━━━━━━━━━━━━\u001b[0m\u001b[37m\u001b[0m \u001b[1m13s\u001b[0m 1s/step - accuracy: 0.0523 - loss: 6.5623 - val_accuracy: 0.0487 - val_loss: 6.7231\n",
      "Epoch 15/80\n",
      "\u001b[1m11/11\u001b[0m \u001b[32m━━━━━━━━━━━━━━━━━━━━\u001b[0m\u001b[37m\u001b[0m \u001b[1m12s\u001b[0m 1s/step - accuracy: 0.0582 - loss: 6.4470 - val_accuracy: 0.0492 - val_loss: 6.6606\n",
      "Epoch 16/80\n",
      "\u001b[1m11/11\u001b[0m \u001b[32m━━━━━━━━━━━━━━━━━━━━\u001b[0m\u001b[37m\u001b[0m \u001b[1m12s\u001b[0m 1s/step - accuracy: 0.0627 - loss: 6.3701 - val_accuracy: 0.0515 - val_loss: 6.6000\n",
      "Epoch 17/80\n",
      "\u001b[1m11/11\u001b[0m \u001b[32m━━━━━━━━━━━━━━━━━━━━\u001b[0m\u001b[37m\u001b[0m \u001b[1m12s\u001b[0m 1s/step - accuracy: 0.0621 - loss: 6.3018 - val_accuracy: 0.0535 - val_loss: 6.5185\n",
      "Epoch 18/80\n",
      "\u001b[1m11/11\u001b[0m \u001b[32m━━━━━━━━━━━━━━━━━━━━\u001b[0m\u001b[37m\u001b[0m \u001b[1m12s\u001b[0m 1s/step - accuracy: 0.0594 - loss: 6.2340 - val_accuracy: 0.0576 - val_loss: 6.4224\n",
      "Epoch 19/80\n",
      "\u001b[1m11/11\u001b[0m \u001b[32m━━━━━━━━━━━━━━━━━━━━\u001b[0m\u001b[37m\u001b[0m \u001b[1m12s\u001b[0m 1s/step - accuracy: 0.0650 - loss: 6.0737 - val_accuracy: 0.0662 - val_loss: 6.2758\n",
      "Epoch 20/80\n",
      "\u001b[1m11/11\u001b[0m \u001b[32m━━━━━━━━━━━━━━━━━━━━\u001b[0m\u001b[37m\u001b[0m \u001b[1m13s\u001b[0m 1s/step - accuracy: 0.0651 - loss: 5.9632 - val_accuracy: 0.0724 - val_loss: 6.1327\n",
      "Epoch 21/80\n",
      "\u001b[1m11/11\u001b[0m \u001b[32m━━━━━━━━━━━━━━━━━━━━\u001b[0m\u001b[37m\u001b[0m \u001b[1m12s\u001b[0m 1s/step - accuracy: 0.0775 - loss: 5.7375 - val_accuracy: 0.0862 - val_loss: 6.0022\n",
      "Epoch 22/80\n",
      "\u001b[1m11/11\u001b[0m \u001b[32m━━━━━━━━━━━━━━━━━━━━\u001b[0m\u001b[37m\u001b[0m \u001b[1m12s\u001b[0m 1s/step - accuracy: 0.0811 - loss: 5.5935 - val_accuracy: 0.1005 - val_loss: 5.8920\n",
      "Epoch 23/80\n",
      "\u001b[1m11/11\u001b[0m \u001b[32m━━━━━━━━━━━━━━━━━━━━\u001b[0m\u001b[37m\u001b[0m \u001b[1m12s\u001b[0m 1s/step - accuracy: 0.0841 - loss: 5.4637 - val_accuracy: 0.1038 - val_loss: 5.7866\n",
      "Epoch 24/80\n",
      "\u001b[1m11/11\u001b[0m \u001b[32m━━━━━━━━━━━━━━━━━━━━\u001b[0m\u001b[37m\u001b[0m \u001b[1m12s\u001b[0m 1s/step - accuracy: 0.0875 - loss: 5.3758 - val_accuracy: 0.1258 - val_loss: 5.7060\n",
      "Epoch 25/80\n",
      "\u001b[1m11/11\u001b[0m \u001b[32m━━━━━━━━━━━━━━━━━━━━\u001b[0m\u001b[37m\u001b[0m \u001b[1m12s\u001b[0m 1s/step - accuracy: 0.0941 - loss: 5.2430 - val_accuracy: 0.1338 - val_loss: 5.6239\n",
      "Epoch 26/80\n",
      "\u001b[1m11/11\u001b[0m \u001b[32m━━━━━━━━━━━━━━━━━━━━\u001b[0m\u001b[37m\u001b[0m \u001b[1m12s\u001b[0m 1s/step - accuracy: 0.1113 - loss: 5.0680 - val_accuracy: 0.1383 - val_loss: 5.5557\n",
      "Epoch 27/80\n",
      "\u001b[1m11/11\u001b[0m \u001b[32m━━━━━━━━━━━━━━━━━━━━\u001b[0m\u001b[37m\u001b[0m \u001b[1m13s\u001b[0m 1s/step - accuracy: 0.1068 - loss: 5.0368 - val_accuracy: 0.1597 - val_loss: 5.4929\n",
      "Epoch 28/80\n",
      "\u001b[1m11/11\u001b[0m \u001b[32m━━━━━━━━━━━━━━━━━━━━\u001b[0m\u001b[37m\u001b[0m \u001b[1m13s\u001b[0m 1s/step - accuracy: 0.1129 - loss: 4.9075 - val_accuracy: 0.1714 - val_loss: 5.4262\n",
      "Epoch 29/80\n",
      "\u001b[1m11/11\u001b[0m \u001b[32m━━━━━━━━━━━━━━━━━━━━\u001b[0m\u001b[37m\u001b[0m \u001b[1m13s\u001b[0m 1s/step - accuracy: 0.1223 - loss: 4.8135 - val_accuracy: 0.1862 - val_loss: 5.3506\n",
      "Epoch 30/80\n",
      "\u001b[1m11/11\u001b[0m \u001b[32m━━━━━━━━━━━━━━━━━━━━\u001b[0m\u001b[37m\u001b[0m \u001b[1m12s\u001b[0m 1s/step - accuracy: 0.1242 - loss: 4.6875 - val_accuracy: 0.2016 - val_loss: 5.2796\n",
      "Epoch 31/80\n",
      "\u001b[1m11/11\u001b[0m \u001b[32m━━━━━━━━━━━━━━━━━━━━\u001b[0m\u001b[37m\u001b[0m \u001b[1m12s\u001b[0m 1s/step - accuracy: 0.1401 - loss: 4.5997 - val_accuracy: 0.2389 - val_loss: 5.2036\n",
      "Epoch 32/80\n",
      "\u001b[1m11/11\u001b[0m \u001b[32m━━━━━━━━━━━━━━━━━━━━\u001b[0m\u001b[37m\u001b[0m \u001b[1m12s\u001b[0m 1s/step - accuracy: 0.1471 - loss: 4.5337 - val_accuracy: 0.2512 - val_loss: 5.1055\n",
      "Epoch 33/80\n",
      "\u001b[1m11/11\u001b[0m \u001b[32m━━━━━━━━━━━━━━━━━━━━\u001b[0m\u001b[37m\u001b[0m \u001b[1m12s\u001b[0m 1s/step - accuracy: 0.1564 - loss: 4.3966 - val_accuracy: 0.2925 - val_loss: 5.0068\n",
      "Epoch 34/80\n",
      "\u001b[1m11/11\u001b[0m \u001b[32m━━━━━━━━━━━━━━━━━━━━\u001b[0m\u001b[37m\u001b[0m \u001b[1m12s\u001b[0m 1s/step - accuracy: 0.1899 - loss: 4.1914 - val_accuracy: 0.3356 - val_loss: 4.8920\n",
      "Epoch 35/80\n",
      "\u001b[1m11/11\u001b[0m \u001b[32m━━━━━━━━━━━━━━━━━━━━\u001b[0m\u001b[37m\u001b[0m \u001b[1m12s\u001b[0m 1s/step - accuracy: 0.2104 - loss: 4.0803 - val_accuracy: 0.3525 - val_loss: 4.7740\n",
      "Epoch 36/80\n",
      "\u001b[1m11/11\u001b[0m \u001b[32m━━━━━━━━━━━━━━━━━━━━\u001b[0m\u001b[37m\u001b[0m \u001b[1m12s\u001b[0m 1s/step - accuracy: 0.2246 - loss: 3.9490 - val_accuracy: 0.3909 - val_loss: 4.6548\n",
      "Epoch 37/80\n",
      "\u001b[1m11/11\u001b[0m \u001b[32m━━━━━━━━━━━━━━━━━━━━\u001b[0m\u001b[37m\u001b[0m \u001b[1m12s\u001b[0m 1s/step - accuracy: 0.2545 - loss: 3.7967 - val_accuracy: 0.4224 - val_loss: 4.5411\n",
      "Epoch 38/80\n",
      "\u001b[1m11/11\u001b[0m \u001b[32m━━━━━━━━━━━━━━━━━━━━\u001b[0m\u001b[37m\u001b[0m \u001b[1m12s\u001b[0m 1s/step - accuracy: 0.2748 - loss: 3.6543 - val_accuracy: 0.4588 - val_loss: 4.4468\n",
      "Epoch 39/80\n",
      "\u001b[1m11/11\u001b[0m \u001b[32m━━━━━━━━━━━━━━━━━━━━\u001b[0m\u001b[37m\u001b[0m \u001b[1m12s\u001b[0m 1s/step - accuracy: 0.2969 - loss: 3.5389 - val_accuracy: 0.5092 - val_loss: 4.3035\n",
      "Epoch 40/80\n",
      "\u001b[1m11/11\u001b[0m \u001b[32m━━━━━━━━━━━━━━━━━━━━\u001b[0m\u001b[37m\u001b[0m \u001b[1m12s\u001b[0m 1s/step - accuracy: 0.3284 - loss: 3.3667 - val_accuracy: 0.5335 - val_loss: 4.2119\n",
      "Epoch 41/80\n",
      "\u001b[1m11/11\u001b[0m \u001b[32m━━━━━━━━━━━━━━━━━━━━\u001b[0m\u001b[37m\u001b[0m \u001b[1m12s\u001b[0m 1s/step - accuracy: 0.3517 - loss: 3.2867 - val_accuracy: 0.5639 - val_loss: 4.1020\n",
      "Epoch 42/80\n",
      "\u001b[1m11/11\u001b[0m \u001b[32m━━━━━━━━━━━━━━━━━━━━\u001b[0m\u001b[37m\u001b[0m \u001b[1m12s\u001b[0m 1s/step - accuracy: 0.3860 - loss: 3.0879 - val_accuracy: 0.5785 - val_loss: 4.0058\n",
      "Epoch 43/80\n",
      "\u001b[1m11/11\u001b[0m \u001b[32m━━━━━━━━━━━━━━━━━━━━\u001b[0m\u001b[37m\u001b[0m \u001b[1m12s\u001b[0m 1s/step - accuracy: 0.4055 - loss: 2.9883 - val_accuracy: 0.6055 - val_loss: 3.9201\n",
      "Epoch 44/80\n",
      "\u001b[1m11/11\u001b[0m \u001b[32m━━━━━━━━━━━━━━━━━━━━\u001b[0m\u001b[37m\u001b[0m \u001b[1m12s\u001b[0m 1s/step - accuracy: 0.4337 - loss: 2.8465 - val_accuracy: 0.6412 - val_loss: 3.8290\n",
      "Epoch 45/80\n",
      "\u001b[1m11/11\u001b[0m \u001b[32m━━━━━━━━━━━━━━━━━━━━\u001b[0m\u001b[37m\u001b[0m \u001b[1m12s\u001b[0m 1s/step - accuracy: 0.4514 - loss: 2.7412 - val_accuracy: 0.6540 - val_loss: 3.7501\n",
      "Epoch 46/80\n",
      "\u001b[1m11/11\u001b[0m \u001b[32m━━━━━━━━━━━━━━━━━━━━\u001b[0m\u001b[37m\u001b[0m \u001b[1m12s\u001b[0m 1s/step - accuracy: 0.4705 - loss: 2.6433 - val_accuracy: 0.6692 - val_loss: 3.6704\n",
      "Epoch 47/80\n",
      "\u001b[1m11/11\u001b[0m \u001b[32m━━━━━━━━━━━━━━━━━━━━\u001b[0m\u001b[37m\u001b[0m \u001b[1m12s\u001b[0m 1s/step - accuracy: 0.4923 - loss: 2.5390 - val_accuracy: 0.6900 - val_loss: 3.6018\n",
      "Epoch 48/80\n",
      "\u001b[1m11/11\u001b[0m \u001b[32m━━━━━━━━━━━━━━━━━━━━\u001b[0m\u001b[37m\u001b[0m \u001b[1m12s\u001b[0m 1s/step - accuracy: 0.5067 - loss: 2.4898 - val_accuracy: 0.7005 - val_loss: 3.5251\n",
      "Epoch 49/80\n",
      "\u001b[1m11/11\u001b[0m \u001b[32m━━━━━━━━━━━━━━━━━━━━\u001b[0m\u001b[37m\u001b[0m \u001b[1m12s\u001b[0m 1s/step - accuracy: 0.5296 - loss: 2.3671 - val_accuracy: 0.7203 - val_loss: 3.4531\n",
      "Epoch 50/80\n",
      "\u001b[1m11/11\u001b[0m \u001b[32m━━━━━━━━━━━━━━━━━━━━\u001b[0m\u001b[37m\u001b[0m \u001b[1m13s\u001b[0m 1s/step - accuracy: 0.5408 - loss: 2.3010 - val_accuracy: 0.7401 - val_loss: 3.4016\n",
      "Epoch 51/80\n",
      "\u001b[1m11/11\u001b[0m \u001b[32m━━━━━━━━━━━━━━━━━━━━\u001b[0m\u001b[37m\u001b[0m \u001b[1m12s\u001b[0m 1s/step - accuracy: 0.5599 - loss: 2.1767 - val_accuracy: 0.7487 - val_loss: 3.3353\n",
      "Epoch 52/80\n",
      "\u001b[1m11/11\u001b[0m \u001b[32m━━━━━━━━━━━━━━━━━━━━\u001b[0m\u001b[37m\u001b[0m \u001b[1m12s\u001b[0m 1s/step - accuracy: 0.5770 - loss: 2.1161 - val_accuracy: 0.7585 - val_loss: 3.2605\n",
      "Epoch 53/80\n",
      "\u001b[1m11/11\u001b[0m \u001b[32m━━━━━━━━━━━━━━━━━━━━\u001b[0m\u001b[37m\u001b[0m \u001b[1m12s\u001b[0m 1s/step - accuracy: 0.5902 - loss: 2.0341 - val_accuracy: 0.7653 - val_loss: 3.2336\n",
      "Epoch 54/80\n",
      "\u001b[1m11/11\u001b[0m \u001b[32m━━━━━━━━━━━━━━━━━━━━\u001b[0m\u001b[37m\u001b[0m \u001b[1m12s\u001b[0m 1s/step - accuracy: 0.6063 - loss: 1.9345 - val_accuracy: 0.7791 - val_loss: 3.2000\n",
      "Epoch 55/80\n",
      "\u001b[1m11/11\u001b[0m \u001b[32m━━━━━━━━━━━━━━━━━━━━\u001b[0m\u001b[37m\u001b[0m \u001b[1m13s\u001b[0m 1s/step - accuracy: 0.6179 - loss: 1.8710 - val_accuracy: 0.7846 - val_loss: 3.1528\n",
      "Epoch 56/80\n",
      "\u001b[1m11/11\u001b[0m \u001b[32m━━━━━━━━━━━━━━━━━━━━\u001b[0m\u001b[37m\u001b[0m \u001b[1m15s\u001b[0m 1s/step - accuracy: 0.6287 - loss: 1.8091 - val_accuracy: 0.7951 - val_loss: 3.1097\n",
      "Epoch 57/80\n",
      "\u001b[1m11/11\u001b[0m \u001b[32m━━━━━━━━━━━━━━━━━━━━\u001b[0m\u001b[37m\u001b[0m \u001b[1m18s\u001b[0m 1s/step - accuracy: 0.6387 - loss: 1.7760 - val_accuracy: 0.7938 - val_loss: 3.0716\n",
      "Epoch 58/80\n",
      "\u001b[1m11/11\u001b[0m \u001b[32m━━━━━━━━━━━━━━━━━━━━\u001b[0m\u001b[37m\u001b[0m \u001b[1m13s\u001b[0m 1s/step - accuracy: 0.6496 - loss: 1.7218 - val_accuracy: 0.8095 - val_loss: 3.0372\n",
      "Epoch 59/80\n",
      "\u001b[1m11/11\u001b[0m \u001b[32m━━━━━━━━━━━━━━━━━━━━\u001b[0m\u001b[37m\u001b[0m \u001b[1m12s\u001b[0m 1s/step - accuracy: 0.6674 - loss: 1.6175 - val_accuracy: 0.8159 - val_loss: 3.0025\n",
      "Epoch 60/80\n",
      "\u001b[1m11/11\u001b[0m \u001b[32m━━━━━━━━━━━━━━━━━━━━\u001b[0m\u001b[37m\u001b[0m \u001b[1m13s\u001b[0m 1s/step - accuracy: 0.6752 - loss: 1.5796 - val_accuracy: 0.8267 - val_loss: 2.9713\n",
      "Epoch 61/80\n",
      "\u001b[1m11/11\u001b[0m \u001b[32m━━━━━━━━━━━━━━━━━━━━\u001b[0m\u001b[37m\u001b[0m \u001b[1m13s\u001b[0m 1s/step - accuracy: 0.6841 - loss: 1.5380 - val_accuracy: 0.8221 - val_loss: 2.9523\n",
      "Epoch 62/80\n",
      "\u001b[1m11/11\u001b[0m \u001b[32m━━━━━━━━━━━━━━━━━━━━\u001b[0m\u001b[37m\u001b[0m \u001b[1m13s\u001b[0m 1s/step - accuracy: 0.6872 - loss: 1.5009 - val_accuracy: 0.8330 - val_loss: 2.9288\n",
      "Epoch 63/80\n",
      "\u001b[1m11/11\u001b[0m \u001b[32m━━━━━━━━━━━━━━━━━━━━\u001b[0m\u001b[37m\u001b[0m \u001b[1m14s\u001b[0m 1s/step - accuracy: 0.6935 - loss: 1.4927 - val_accuracy: 0.8401 - val_loss: 2.8961\n",
      "Epoch 64/80\n",
      "\u001b[1m11/11\u001b[0m \u001b[32m━━━━━━━━━━━━━━━━━━━━\u001b[0m\u001b[37m\u001b[0m \u001b[1m13s\u001b[0m 1s/step - accuracy: 0.7117 - loss: 1.3733 - val_accuracy: 0.8419 - val_loss: 2.8760\n",
      "Epoch 65/80\n",
      "\u001b[1m11/11\u001b[0m \u001b[32m━━━━━━━━━━━━━━━━━━━━\u001b[0m\u001b[37m\u001b[0m \u001b[1m14s\u001b[0m 1s/step - accuracy: 0.7106 - loss: 1.3642 - val_accuracy: 0.8481 - val_loss: 2.8825\n",
      "Epoch 66/80\n",
      "\u001b[1m11/11\u001b[0m \u001b[32m━━━━━━━━━━━━━━━━━━━━\u001b[0m\u001b[37m\u001b[0m \u001b[1m15s\u001b[0m 1s/step - accuracy: 0.7205 - loss: 1.3203 - val_accuracy: 0.8521 - val_loss: 2.8471\n",
      "Epoch 67/80\n",
      "\u001b[1m11/11\u001b[0m \u001b[32m━━━━━━━━━━━━━━━━━━━━\u001b[0m\u001b[37m\u001b[0m \u001b[1m15s\u001b[0m 1s/step - accuracy: 0.7297 - loss: 1.2861 - val_accuracy: 0.8577 - val_loss: 2.8155\n",
      "Epoch 68/80\n",
      "\u001b[1m11/11\u001b[0m \u001b[32m━━━━━━━━━━━━━━━━━━━━\u001b[0m\u001b[37m\u001b[0m \u001b[1m15s\u001b[0m 1s/step - accuracy: 0.7356 - loss: 1.2514 - val_accuracy: 0.8588 - val_loss: 2.8159\n",
      "Epoch 69/80\n",
      "\u001b[1m11/11\u001b[0m \u001b[32m━━━━━━━━━━━━━━━━━━━━\u001b[0m\u001b[37m\u001b[0m \u001b[1m13s\u001b[0m 1s/step - accuracy: 0.7388 - loss: 1.2335 - val_accuracy: 0.8624 - val_loss: 2.8071\n",
      "Epoch 70/80\n",
      "\u001b[1m11/11\u001b[0m \u001b[32m━━━━━━━━━━━━━━━━━━━━\u001b[0m\u001b[37m\u001b[0m \u001b[1m13s\u001b[0m 1s/step - accuracy: 0.7411 - loss: 1.2124 - val_accuracy: 0.8685 - val_loss: 2.7852\n",
      "Epoch 71/80\n",
      "\u001b[1m11/11\u001b[0m \u001b[32m━━━━━━━━━━━━━━━━━━━━\u001b[0m\u001b[37m\u001b[0m \u001b[1m14s\u001b[0m 1s/step - accuracy: 0.7470 - loss: 1.1831 - val_accuracy: 0.8706 - val_loss: 2.7734\n",
      "Epoch 72/80\n",
      "\u001b[1m11/11\u001b[0m \u001b[32m━━━━━━━━━━━━━━━━━━━━\u001b[0m\u001b[37m\u001b[0m \u001b[1m17s\u001b[0m 2s/step - accuracy: 0.7583 - loss: 1.1195 - val_accuracy: 0.8730 - val_loss: 2.7706\n",
      "Epoch 73/80\n",
      "\u001b[1m11/11\u001b[0m \u001b[32m━━━━━━━━━━━━━━━━━━━━\u001b[0m\u001b[37m\u001b[0m \u001b[1m16s\u001b[0m 1s/step - accuracy: 0.7674 - loss: 1.0731 - val_accuracy: 0.8759 - val_loss: 2.7545\n",
      "Epoch 74/80\n",
      "\u001b[1m11/11\u001b[0m \u001b[32m━━━━━━━━━━━━━━━━━━━━\u001b[0m\u001b[37m\u001b[0m \u001b[1m13s\u001b[0m 1s/step - accuracy: 0.7678 - loss: 1.0865 - val_accuracy: 0.8812 - val_loss: 2.7560\n",
      "Epoch 75/80\n",
      "\u001b[1m11/11\u001b[0m \u001b[32m━━━━━━━━━━━━━━━━━━━━\u001b[0m\u001b[37m\u001b[0m \u001b[1m13s\u001b[0m 1s/step - accuracy: 0.7757 - loss: 1.0312 - val_accuracy: 0.8805 - val_loss: 2.7357\n",
      "Epoch 76/80\n",
      "\u001b[1m11/11\u001b[0m \u001b[32m━━━━━━━━━━━━━━━━━━━━\u001b[0m\u001b[37m\u001b[0m \u001b[1m13s\u001b[0m 1s/step - accuracy: 0.7801 - loss: 1.0078 - val_accuracy: 0.8861 - val_loss: 2.7256\n",
      "Epoch 77/80\n",
      "\u001b[1m11/11\u001b[0m \u001b[32m━━━━━━━━━━━━━━━━━━━━\u001b[0m\u001b[37m\u001b[0m \u001b[1m13s\u001b[0m 1s/step - accuracy: 0.7838 - loss: 0.9890 - val_accuracy: 0.8882 - val_loss: 2.7158\n",
      "Epoch 78/80\n",
      "\u001b[1m11/11\u001b[0m \u001b[32m━━━━━━━━━━━━━━━━━━━━\u001b[0m\u001b[37m\u001b[0m \u001b[1m13s\u001b[0m 1s/step - accuracy: 0.7837 - loss: 0.9798 - val_accuracy: 0.8868 - val_loss: 2.7088\n",
      "Epoch 79/80\n",
      "\u001b[1m11/11\u001b[0m \u001b[32m━━━━━━━━━━━━━━━━━━━━\u001b[0m\u001b[37m\u001b[0m \u001b[1m20s\u001b[0m 1s/step - accuracy: 0.7915 - loss: 0.9538 - val_accuracy: 0.8925 - val_loss: 2.6940\n",
      "Epoch 80/80\n",
      "\u001b[1m11/11\u001b[0m \u001b[32m━━━━━━━━━━━━━━━━━━━━\u001b[0m\u001b[37m\u001b[0m \u001b[1m13s\u001b[0m 1s/step - accuracy: 0.7959 - loss: 0.9216 - val_accuracy: 0.8930 - val_loss: 2.7124\n"
     ]
    }
   ],
   "source": [
    " #Assuming you have already trained your model\n",
    "history = model.fit(\n",
    "   X_train, y_train,\n",
    "    epochs=80,\n",
    "    batch_size=64,\n",
    "    validation_data=(X_val, y_val),\n",
    ")\n",
    "\n",
    "\n",
    "\n"
   ]
  },
  {
   "cell_type": "code",
   "execution_count": null,
   "id": "08432397",
   "metadata": {},
   "outputs": [],
   "source": []
  },
  {
   "cell_type": "code",
   "execution_count": 103,
   "id": "bacd17f1",
   "metadata": {},
   "outputs": [
    {
     "data": {
      "image/png": "[encoded data removed]",
      "text/plain": [
       "<Figure size 640x480 with 1 Axes>"
      ]
     },
     "metadata": {},
     "output_type": "display_data"
    }
   ],
   "source": [
    "# Plot training & validation accuracy values\n",
    "import matplotlib.pyplot as plt\n",
    "\n",
    "# Plot training & validation accuracy and loss\n",
    "plt.plot(history.history['accuracy'], label='train accuracy')\n",
    "plt.plot(history.history['val_accuracy'], label='val accuracy')\n",
    "plt.title('Model Accuracy')\n",
    "plt.ylabel('Accuracy')\n",
    "plt.xlabel('Epoch')\n",
    "plt.legend(loc='upper left')\n",
    "plt.show()"
   ]
  },
  {
   "cell_type": "code",
   "execution_count": 104,
   "id": "f780994d",
   "metadata": {},
   "outputs": [
    {
     "name": "stderr",
     "output_type": "stream",
     "text": [
      "WARNING:absl:You are saving your model as an HDF5 file via `model.save()` or `keras.saving.save_model(model)`. This file format is considered legacy. We recommend using instead the native Keras format, e.g. `model.save('my_model.keras')` or `keras.saving.save_model(model, 'my_model.keras')`. \n"
     ]
    },
    {
     "name": "stdout",
     "output_type": "stream",
     "text": [
      "Model saved successfully as 'lstm_model.h5'\n"
     ]
    }
   ],
   "source": [
    "# Step 6.6: Save the model\n",
    "model.save('lstm_model.h5')\n",
    "\n",
    "print(\"Model saved successfully as 'lstm_model.h5'\")\n",
    "\n",
    "#model.save('lstm_model.keras')\n",
    "#print(\"Model saved successfully as 'lstm_model.keras'\")W"
   ]
  },
  {
   "cell_type": "code",
   "execution_count": 105,
   "id": "858d3036",
   "metadata": {},
   "outputs": [
    {
     "name": "stdout",
     "output_type": "stream",
     "text": [
      "Model file exists.\n"
     ]
    }
   ],
   "source": [
    "import os\n",
    "if os.path.exists('C:/Users/Asus/OneDrive/Desktop/My-Project/lstm_model.h5'):\n",
    "    print(\"Model file exists.\")\n",
    "else:\n",
    "    print(\"Model file not found.\")\n"
   ]
  },
  {
   "cell_type": "code",
   "execution_count": 106,
   "id": "3128e244",
   "metadata": {},
   "outputs": [
    {
     "name": "stderr",
     "output_type": "stream",
     "text": [
      "WARNING:absl:Compiled the loaded model, but the compiled metrics have yet to be built. `model.compile_metrics` will be empty until you train or evaluate the model.\n"
     ]
    }
   ],
   "source": [
    "from tensorflow.keras.models import load_model\n",
    "\n",
    "# Load your saved model (make sure to provide the correct path to your model file)\n",
    "model = load_model('C:/Users/Asus/OneDrive/Desktop/My-Project/lstm_model.h5')\n"
   ]
  },
  {
   "cell_type": "code",
   "execution_count": null,
   "id": "602c66e6",
   "metadata": {},
   "outputs": [],
   "source": []
  },
  {
   "cell_type": "code",
   "execution_count": null,
   "id": "d92c874c",
   "metadata": {},
   "outputs": [],
   "source": []
  },
  {
   "cell_type": "code",
   "execution_count": 107,
   "id": "cb0c3c4e",
   "metadata": {},
   "outputs": [
    {
     "name": "stderr",
     "output_type": "stream",
     "text": [
      "WARNING:absl:Compiled the loaded model, but the compiled metrics have yet to be built. `model.compile_metrics` will be empty until you train or evaluate the model.\n"
     ]
    },
    {
     "name": "stdout",
     "output_type": "stream",
     "text": [
      "Seed text: एका जंगलातील झाडावर एक चिमणा रहात होता \n",
      "Tokenized seed: [1302, 0, 0, 30, 0, 212, 66]\n",
      "Padded seed: [[1302    0    0   30    0  212   66]]\n",
      "\n",
      "Generated Story:\n",
      "एका जंगलातील झाडावर एक चिमणा रहात होता  खाण्यापिण् कन्नड मुसळ वाटतो अथ कोर्ट थाप कृष्णा डांब नेसव आत्या वसिष्ठ लावाय बोकड सिगारेट आलोदुसऱ किलबिल राहते मावत गाडा टॉप ओटी विहीरी पाहिल्या विद् कुरण श्रे सुमारास भवानी ओलांड मुलीं रू फसगत काळात सीन रूपया शरयु कोल त्याने आधी शेतकर राहणार मजुरी फ़ा धावपळ मना हं रावसाहेबांनी लगेच व्यर्थ सुलतान विषयी आपल्या हयाभिकाऱ मुलांची माथा पनीर हिणव विंचू स्नानगृह स्थावर उडता चौघ कमाई झू प्लेसमेंट उच्छिष्ट धोतर नावाची मजूर भारतात आणले इंद्रायणी चुकि आंब्या तोफ डॉक जगन्नाथ आवडीनिवडी माणसाला वयाची विहिरी दंग थेट डिक्शनरी आईने शास्त्रज्ञ नतंर उन्नती पाहा इप्सित डोक् बोलता अट्टाहास मौन ११ द्रोणाचार्य डर मंदिरा गोन मुक्त जगभरात जागी\n"
     ]
    }
   ],
   "source": [
    "import numpy as np\n",
    "from tensorflow.keras.models import load_model\n",
    "import pickle\n",
    "\n",
    "# Function to generate a story based on seed text with temperature sampling\n",
    "def generate_story(seed_text, model, word_to_index, index_to_word, max_sequence_length=5, num_words_to_generate=50, temperature=1.0, prob_tolerance=1e-5):\n",
    "    # Step 1: Preprocess the seed text\n",
    "    print(f\"Seed text: {seed_text}\")\n",
    "    tokenized_seed = [word_to_index.get(word, 0) for word in seed_text.split()]\n",
    "    print(f\"Tokenized seed: {tokenized_seed}\")\n",
    "    \n",
    "    # Step 2: Prepare the seed sequence for prediction (pad the sequence if necessary)\n",
    "    padded_seed = tokenized_seed\n",
    "    if len(padded_seed) < max_sequence_length:\n",
    "        padded_seed = [0] * (max_sequence_length - len(padded_seed)) + padded_seed\n",
    "    padded_seed = np.array(padded_seed).reshape(1, -1)  # Reshape for model input\n",
    "    print(f\"Padded seed: {padded_seed}\")\n",
    "    \n",
    "    # Step 3: Generate the story by predicting next words\n",
    "    generated_story = seed_text\n",
    "    for _ in range(num_words_to_generate):\n",
    "        predicted_probs = model.predict(padded_seed, verbose=0)\n",
    "        \n",
    "        # Predicted probabilities for the next word (the last word in the sequence)\n",
    "        predicted_probs = predicted_probs[0, -1, :]  # Get the last word probabilities\n",
    "        \n",
    "        # Apply temperature for diversity\n",
    "        predicted_probs = predicted_probs / temperature  # Apply temperature scaling\n",
    "        predicted_probs = np.exp(predicted_probs)  # Convert to probabilities using exponentiation\n",
    "        predicted_probs = predicted_probs / np.sum(predicted_probs)  # Normalize to sum to 1\n",
    "        \n",
    "        # Normalize if the sum is not within the tolerance\n",
    "        if np.abs(np.sum(predicted_probs) - 1.0) > prob_tolerance:\n",
    "            print(f\"Warning: Probabilities do not sum to 1. They sum to {np.sum(predicted_probs)}\")\n",
    "            predicted_probs = predicted_probs / np.sum(predicted_probs)  # Re-normalize just in case\n",
    "\n",
    "        # Sample the next word based on the probabilities\n",
    "        predicted_word_index = np.random.choice(len(predicted_probs), p=predicted_probs)\n",
    "        predicted_word = index_to_word.get(predicted_word_index, '')\n",
    "        \n",
    "        if predicted_word == '':\n",
    "            print(\"No valid word predicted. Exiting...\")\n",
    "            break\n",
    "        \n",
    "        # Append the predicted word to the story\n",
    "        generated_story += ' ' + predicted_word\n",
    "        \n",
    "        # Update the seed with the new word to generate the next word\n",
    "        padded_seed = np.roll(padded_seed, -1)  # Shift the sequence to the left\n",
    "        padded_seed[0, -1] = predicted_word_index  # Update with the predicted word index\n",
    "\n",
    "    return generated_story\n",
    "\n",
    "# Example usage:\n",
    "if __name__ == \"__main__\":\n",
    "    # Load the necessary model, word_to_index, and index_to_word\n",
    "    model = load_model('C:/Users/Asus/OneDrive/Desktop/My-Project/lstm_model.h5')\n",
    "\n",
    "    with open('C:/Users/Asus/OneDrive/Desktop/My-Project/word_to_index.pkl', 'rb') as f:\n",
    "        word_to_index = pickle.load(f)\n",
    "\n",
    "    with open('C:/Users/Asus/OneDrive/Desktop/My-Project/index_to_word.pkl', 'rb') as f:\n",
    "        index_to_word = pickle.load(f)\n",
    "\n",
    "    # User inputs the seed text\n",
    "    seed_text = input(\"Enter the seed text to start the story: \")\n",
    "\n",
    "    # Generate the story based on user input\n",
    "    generated_story = generate_story(seed_text, model, word_to_index, index_to_word, max_sequence_length=5, num_words_to_generate=100, temperature=0.5)\n",
    "\n",
    "    print(\"\\nGenerated Story:\")\n",
    "    print(generated_story)\n"
   ]
  },
  {
   "cell_type": "code",
   "execution_count": null,
   "id": "4db604ff",
   "metadata": {},
   "outputs": [],
   "source": []
  },
  {
   "cell_type": "code",
   "execution_count": null,
   "id": "f7af1c47",
   "metadata": {},
   "outputs": [],
   "source": []
  },
  {
   "cell_type": "code",
   "execution_count": null,
   "id": "a0a38677",
   "metadata": {},
   "outputs": [],
   "source": []
  },
  {
   "cell_type": "code",
   "execution_count": null,
   "id": "acc252fc",
   "metadata": {},
   "outputs": [],
   "source": [
    "\n"
   ]
  },
  {
   "cell_type": "code",
   "execution_count": null,
   "id": "75cc12cf",
   "metadata": {},
   "outputs": [],
   "source": []
  },
  {
   "cell_type": "code",
   "execution_count": null,
   "id": "0e9dc20e",
   "metadata": {},
   "outputs": [],
   "source": []
  },
  {
   "cell_type": "code",
   "execution_count": null,
   "id": "9c824948",
   "metadata": {},
   "outputs": [],
   "source": [
    "\n"
   ]
  },
  {
   "cell_type": "code",
   "execution_count": null,
   "id": "f789f632",
   "metadata": {},
   "outputs": [],
   "source": []
  },
  {
   "cell_type": "code",
   "execution_count": null,
   "id": "de96d736",
   "metadata": {},
   "outputs": [],
   "source": []
  },
  {
   "cell_type": "code",
   "execution_count": null,
   "id": "9df438e6",
   "metadata": {},
   "outputs": [],
   "source": []
  },
  {
   "cell_type": "code",
   "execution_count": null,
   "id": "6bb2e4a2",
   "metadata": {},
   "outputs": [],
   "source": []
  },
  {
   "cell_type": "code",
   "execution_count": null,
   "id": "bb636714",
   "metadata": {},
   "outputs": [],
   "source": []
  },
  {
   "cell_type": "code",
   "execution_count": 108,
   "id": "3653f71b",
   "metadata": {},
   "outputs": [],
   "source": [
    "#import numpy as np\n",
    "\n",
    "# Function to generate a story based on seed text\n",
    "#def generate_story(seed_text, model, word_to_index, index_to_word, max_sequence_length=5, num_words_to_generate=50):\n",
    "    # Step 1: Preprocess the seed text\n",
    "    # Tokenize the seed text based on the word_to_index mapping\n",
    " #   tokenized_seed = [word_to_index.get(word, 0) for word in seed_text.split()]\n",
    "    \n",
    "    # Step 2: Prepare the seed sequence for prediction (pad the sequence if necessary)\n",
    "  #  padded_seed = tokenized_seed\n",
    "   # if len(padded_seed) < max_sequence_length:\n",
    "    #    padded_seed = [0] * (max_sequence_length - len(padded_seed)) + padded_seed\n",
    "    #padded_seed = np.array(padded_seed).reshape(1, -1)  # Reshape for model input\n",
    "    \n",
    "    # Step 3: Generate the story by predicting next words\n",
    "    #generated_story = seed_text\n",
    "    \n",
    "    #for _ in range(num_words_to_generate):\n",
    "        # Predict the next word\n",
    "     #   predicted_probs = model.predict(padded_seed, verbose=0)\n",
    "      #  predicted_word_index = np.argmax(predicted_probs[0, -1, :])  # Get the index of the most probable word\n",
    "       # predicted_word = index_to_word.get(predicted_word_index, '')\n",
    "        \n",
    "       # if predicted_word == '':\n",
    "      #      break  # Stop if no valid word is predicted\n",
    "        \n",
    "        # Append the predicted word to the story\n",
    "        #generated_story += ' ' + predicted_word\n",
    "        \n",
    "        # Update the seed with the new word to generate the next word\n",
    "   #     padded_seed = np.roll(padded_seed, -1)  # Shift the sequence to the left\n",
    "  #      padded_seed[0, -1] = predicted_word_index  # Update with the predicted word index\n",
    "\n",
    " #   return generated_story\n",
    "\n",
    "# Example usage:\n",
    "#seed_text = \"राज वैभवात आसक्ती नव्हती लोभ मोहापासून\"  # Example seed phrase\n",
    "#generated_story = generate_story(seed_text, model, word_to_index, index_to_word, max_sequence_length=5, num_words_to_generate=50)\n",
    "\n",
    "#print(\"generated Story:\")\n",
    "#print(generated_story)\n",
    "#model.save('lstm_model.h5')\n"
   ]
  },
  {
   "cell_type": "code",
   "execution_count": null,
   "id": "dd05d10c",
   "metadata": {},
   "outputs": [],
   "source": []
  },
  {
   "cell_type": "markdown",
   "id": "99460d1e",
   "metadata": {},
   "source": [
    "# Connect frontend to backend ."
   ]
  },
  {
   "cell_type": "code",
   "execution_count": null,
   "id": "6e7f198d",
   "metadata": {},
   "outputs": [],
   "source": [
    "\n",
    "\n"
   ]
  },
  {
   "cell_type": "code",
   "execution_count": null,
   "id": "fe9a1236",
   "metadata": {},
   "outputs": [],
   "source": []
  },
  {
   "cell_type": "code",
   "execution_count": null,
   "id": "3bf9e941",
   "metadata": {},
   "outputs": [],
   "source": []
  },
  {
   "cell_type": "code",
   "execution_count": null,
   "id": "5ebcb9ac",
   "metadata": {},
   "outputs": [],
   "source": []
  },
  {
   "cell_type": "code",
   "execution_count": null,
   "id": "23bb6525",
   "metadata": {},
   "outputs": [],
   "source": []
  }
 ],
 "metadata": {
  "kernelspec": {
   "display_name": ".venv",
   "language": "python",
   "name": "python3"
  },
  "language_info": {
   "codemirror_mode": {
    "name": "ipython",
    "version": 3
   },
   "file_extension": ".py",
   "mimetype": "text/x-python",
   "name": "python",
   "nbconvert_exporter": "python",
   "pygments_lexer": "ipython3",
   "version": "3.10.1"
  }
 },
 "nbformat": 4,
 "nbformat_minor": 5
}
